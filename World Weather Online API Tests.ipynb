{
 "cells": [
  {
   "cell_type": "code",
   "execution_count": 1,
   "metadata": {},
   "outputs": [
    {
     "name": "stdout",
     "output_type": "stream",
     "text": [
      "{'q': '54.762089,18.495421', 'format': 'json', 'date': '2010-1-01', 'enddate': '2010-1-28', 'tp': '3'}\n",
      "{'q': '54.762089,18.495421', 'format': 'json', 'date': '2010-2-01', 'enddate': '2010-2-28', 'tp': '3'}\n",
      "{'q': '54.762089,18.495421', 'format': 'json', 'date': '2010-3-01', 'enddate': '2010-3-28', 'tp': '3'}\n",
      "{'q': '54.762089,18.495421', 'format': 'json', 'date': '2010-4-01', 'enddate': '2010-4-28', 'tp': '3'}\n",
      "{'q': '54.762089,18.495421', 'format': 'json', 'date': '2010-5-01', 'enddate': '2010-5-28', 'tp': '3'}\n",
      "{'q': '54.762089,18.495421', 'format': 'json', 'date': '2010-6-01', 'enddate': '2010-6-28', 'tp': '3'}\n",
      "{'q': '54.762089,18.495421', 'format': 'json', 'date': '2010-7-01', 'enddate': '2010-7-28', 'tp': '3'}\n",
      "{'q': '54.762089,18.495421', 'format': 'json', 'date': '2010-8-01', 'enddate': '2010-8-28', 'tp': '3'}\n",
      "{'q': '54.762089,18.495421', 'format': 'json', 'date': '2010-9-01', 'enddate': '2010-9-28', 'tp': '3'}\n",
      "{'q': '54.762089,18.495421', 'format': 'json', 'date': '2010-10-01', 'enddate': '2010-10-28', 'tp': '3'}\n",
      "{'q': '54.762089,18.495421', 'format': 'json', 'date': '2010-11-01', 'enddate': '2010-11-28', 'tp': '3'}\n",
      "{'q': '54.762089,18.495421', 'format': 'json', 'date': '2010-12-01', 'enddate': '2010-12-28', 'tp': '3'}\n",
      "{'q': '54.762089,18.495421', 'format': 'json', 'date': '2011-1-01', 'enddate': '2011-1-28', 'tp': '3'}\n",
      "{'q': '54.762089,18.495421', 'format': 'json', 'date': '2011-2-01', 'enddate': '2011-2-28', 'tp': '3'}\n",
      "{'q': '54.762089,18.495421', 'format': 'json', 'date': '2011-3-01', 'enddate': '2011-3-28', 'tp': '3'}\n",
      "{'q': '54.762089,18.495421', 'format': 'json', 'date': '2011-4-01', 'enddate': '2011-4-28', 'tp': '3'}\n",
      "{'q': '54.762089,18.495421', 'format': 'json', 'date': '2011-5-01', 'enddate': '2011-5-28', 'tp': '3'}\n",
      "{'q': '54.762089,18.495421', 'format': 'json', 'date': '2011-6-01', 'enddate': '2011-6-28', 'tp': '3'}\n",
      "{'q': '54.762089,18.495421', 'format': 'json', 'date': '2011-7-01', 'enddate': '2011-7-28', 'tp': '3'}\n",
      "{'q': '54.762089,18.495421', 'format': 'json', 'date': '2011-8-01', 'enddate': '2011-8-28', 'tp': '3'}\n",
      "{'q': '54.762089,18.495421', 'format': 'json', 'date': '2011-9-01', 'enddate': '2011-9-28', 'tp': '3'}\n",
      "{'q': '54.762089,18.495421', 'format': 'json', 'date': '2011-10-01', 'enddate': '2011-10-28', 'tp': '3'}\n",
      "{'q': '54.762089,18.495421', 'format': 'json', 'date': '2011-11-01', 'enddate': '2011-11-28', 'tp': '3'}\n",
      "{'q': '54.762089,18.495421', 'format': 'json', 'date': '2011-12-01', 'enddate': '2011-12-28', 'tp': '3'}\n",
      "{'q': '54.762089,18.495421', 'format': 'json', 'date': '2012-1-01', 'enddate': '2012-1-28', 'tp': '3'}\n",
      "{'q': '54.762089,18.495421', 'format': 'json', 'date': '2012-2-01', 'enddate': '2012-2-28', 'tp': '3'}\n",
      "{'q': '54.762089,18.495421', 'format': 'json', 'date': '2012-3-01', 'enddate': '2012-3-28', 'tp': '3'}\n",
      "{'q': '54.762089,18.495421', 'format': 'json', 'date': '2012-4-01', 'enddate': '2012-4-28', 'tp': '3'}\n",
      "{'q': '54.762089,18.495421', 'format': 'json', 'date': '2012-5-01', 'enddate': '2012-5-28', 'tp': '3'}\n",
      "{'q': '54.762089,18.495421', 'format': 'json', 'date': '2012-6-01', 'enddate': '2012-6-28', 'tp': '3'}\n",
      "{'q': '54.762089,18.495421', 'format': 'json', 'date': '2012-7-01', 'enddate': '2012-7-28', 'tp': '3'}\n",
      "{'q': '54.762089,18.495421', 'format': 'json', 'date': '2012-8-01', 'enddate': '2012-8-28', 'tp': '3'}\n",
      "{'q': '54.762089,18.495421', 'format': 'json', 'date': '2012-9-01', 'enddate': '2012-9-28', 'tp': '3'}\n",
      "{'q': '54.762089,18.495421', 'format': 'json', 'date': '2012-10-01', 'enddate': '2012-10-28', 'tp': '3'}\n",
      "{'q': '54.762089,18.495421', 'format': 'json', 'date': '2012-11-01', 'enddate': '2012-11-28', 'tp': '3'}\n",
      "{'q': '54.762089,18.495421', 'format': 'json', 'date': '2012-12-01', 'enddate': '2012-12-28', 'tp': '3'}\n",
      "{'q': '54.762089,18.495421', 'format': 'json', 'date': '2013-1-01', 'enddate': '2013-1-28', 'tp': '3'}\n",
      "{'q': '54.762089,18.495421', 'format': 'json', 'date': '2013-2-01', 'enddate': '2013-2-28', 'tp': '3'}\n",
      "{'q': '54.762089,18.495421', 'format': 'json', 'date': '2013-3-01', 'enddate': '2013-3-28', 'tp': '3'}\n",
      "{'q': '54.762089,18.495421', 'format': 'json', 'date': '2013-4-01', 'enddate': '2013-4-28', 'tp': '3'}\n",
      "{'q': '54.762089,18.495421', 'format': 'json', 'date': '2013-5-01', 'enddate': '2013-5-28', 'tp': '3'}\n",
      "{'q': '54.762089,18.495421', 'format': 'json', 'date': '2013-6-01', 'enddate': '2013-6-28', 'tp': '3'}\n",
      "{'q': '54.762089,18.495421', 'format': 'json', 'date': '2013-7-01', 'enddate': '2013-7-28', 'tp': '3'}\n",
      "{'q': '54.762089,18.495421', 'format': 'json', 'date': '2013-8-01', 'enddate': '2013-8-28', 'tp': '3'}\n",
      "{'q': '54.762089,18.495421', 'format': 'json', 'date': '2013-9-01', 'enddate': '2013-9-28', 'tp': '3'}\n",
      "{'q': '54.762089,18.495421', 'format': 'json', 'date': '2013-10-01', 'enddate': '2013-10-28', 'tp': '3'}\n",
      "{'q': '54.762089,18.495421', 'format': 'json', 'date': '2013-11-01', 'enddate': '2013-11-28', 'tp': '3'}\n",
      "{'q': '54.762089,18.495421', 'format': 'json', 'date': '2013-12-01', 'enddate': '2013-12-28', 'tp': '3'}\n",
      "{'q': '54.762089,18.495421', 'format': 'json', 'date': '2014-1-01', 'enddate': '2014-1-28', 'tp': '3'}\n",
      "{'q': '54.762089,18.495421', 'format': 'json', 'date': '2014-2-01', 'enddate': '2014-2-28', 'tp': '3'}\n",
      "{'q': '54.762089,18.495421', 'format': 'json', 'date': '2014-3-01', 'enddate': '2014-3-28', 'tp': '3'}\n",
      "{'q': '54.762089,18.495421', 'format': 'json', 'date': '2014-4-01', 'enddate': '2014-4-28', 'tp': '3'}\n",
      "{'q': '54.762089,18.495421', 'format': 'json', 'date': '2014-5-01', 'enddate': '2014-5-28', 'tp': '3'}\n",
      "{'q': '54.762089,18.495421', 'format': 'json', 'date': '2014-6-01', 'enddate': '2014-6-28', 'tp': '3'}\n",
      "{'q': '54.762089,18.495421', 'format': 'json', 'date': '2014-7-01', 'enddate': '2014-7-28', 'tp': '3'}\n",
      "{'q': '54.762089,18.495421', 'format': 'json', 'date': '2014-8-01', 'enddate': '2014-8-28', 'tp': '3'}\n",
      "{'q': '54.762089,18.495421', 'format': 'json', 'date': '2014-9-01', 'enddate': '2014-9-28', 'tp': '3'}\n",
      "{'q': '54.762089,18.495421', 'format': 'json', 'date': '2014-10-01', 'enddate': '2014-10-28', 'tp': '3'}\n",
      "{'q': '54.762089,18.495421', 'format': 'json', 'date': '2014-11-01', 'enddate': '2014-11-28', 'tp': '3'}\n",
      "{'q': '54.762089,18.495421', 'format': 'json', 'date': '2014-12-01', 'enddate': '2014-12-28', 'tp': '3'}\n",
      "{'q': '54.762089,18.495421', 'format': 'json', 'date': '2015-1-01', 'enddate': '2015-1-28', 'tp': '3'}\n",
      "{'q': '54.762089,18.495421', 'format': 'json', 'date': '2015-2-01', 'enddate': '2015-2-28', 'tp': '3'}\n",
      "{'q': '54.762089,18.495421', 'format': 'json', 'date': '2015-3-01', 'enddate': '2015-3-28', 'tp': '3'}\n",
      "{'q': '54.762089,18.495421', 'format': 'json', 'date': '2015-4-01', 'enddate': '2015-4-28', 'tp': '3'}\n",
      "{'q': '54.762089,18.495421', 'format': 'json', 'date': '2015-5-01', 'enddate': '2015-5-28', 'tp': '3'}\n",
      "{'q': '54.762089,18.495421', 'format': 'json', 'date': '2015-6-01', 'enddate': '2015-6-28', 'tp': '3'}\n",
      "{'q': '54.762089,18.495421', 'format': 'json', 'date': '2015-7-01', 'enddate': '2015-7-28', 'tp': '3'}\n",
      "{'q': '54.762089,18.495421', 'format': 'json', 'date': '2015-8-01', 'enddate': '2015-8-28', 'tp': '3'}\n",
      "{'q': '54.762089,18.495421', 'format': 'json', 'date': '2015-9-01', 'enddate': '2015-9-28', 'tp': '3'}\n",
      "{'q': '54.762089,18.495421', 'format': 'json', 'date': '2015-10-01', 'enddate': '2015-10-28', 'tp': '3'}\n",
      "{'q': '54.762089,18.495421', 'format': 'json', 'date': '2015-11-01', 'enddate': '2015-11-28', 'tp': '3'}\n",
      "{'q': '54.762089,18.495421', 'format': 'json', 'date': '2015-12-01', 'enddate': '2015-12-28', 'tp': '3'}\n",
      "{'q': '54.762089,18.495421', 'format': 'json', 'date': '2016-1-01', 'enddate': '2016-1-28', 'tp': '3'}\n",
      "{'q': '54.762089,18.495421', 'format': 'json', 'date': '2016-2-01', 'enddate': '2016-2-28', 'tp': '3'}\n",
      "{'q': '54.762089,18.495421', 'format': 'json', 'date': '2016-3-01', 'enddate': '2016-3-28', 'tp': '3'}\n",
      "{'q': '54.762089,18.495421', 'format': 'json', 'date': '2016-4-01', 'enddate': '2016-4-28', 'tp': '3'}\n",
      "{'q': '54.762089,18.495421', 'format': 'json', 'date': '2016-5-01', 'enddate': '2016-5-28', 'tp': '3'}\n",
      "{'q': '54.762089,18.495421', 'format': 'json', 'date': '2016-6-01', 'enddate': '2016-6-28', 'tp': '3'}\n",
      "{'q': '54.762089,18.495421', 'format': 'json', 'date': '2016-7-01', 'enddate': '2016-7-28', 'tp': '3'}\n",
      "{'q': '54.762089,18.495421', 'format': 'json', 'date': '2016-8-01', 'enddate': '2016-8-28', 'tp': '3'}\n"
     ]
    },
    {
     "name": "stdout",
     "output_type": "stream",
     "text": [
      "{'q': '54.762089,18.495421', 'format': 'json', 'date': '2016-9-01', 'enddate': '2016-9-28', 'tp': '3'}\n",
      "{'q': '54.762089,18.495421', 'format': 'json', 'date': '2016-10-01', 'enddate': '2016-10-28', 'tp': '3'}\n",
      "{'q': '54.762089,18.495421', 'format': 'json', 'date': '2016-11-01', 'enddate': '2016-11-28', 'tp': '3'}\n",
      "{'q': '54.762089,18.495421', 'format': 'json', 'date': '2016-12-01', 'enddate': '2016-12-28', 'tp': '3'}\n",
      "{'q': '54.762089,18.495421', 'format': 'json', 'date': '2017-1-01', 'enddate': '2017-1-28', 'tp': '3'}\n",
      "{'q': '54.762089,18.495421', 'format': 'json', 'date': '2017-2-01', 'enddate': '2017-2-28', 'tp': '3'}\n",
      "{'q': '54.762089,18.495421', 'format': 'json', 'date': '2017-3-01', 'enddate': '2017-3-28', 'tp': '3'}\n",
      "{'q': '54.762089,18.495421', 'format': 'json', 'date': '2017-4-01', 'enddate': '2017-4-28', 'tp': '3'}\n",
      "{'q': '54.762089,18.495421', 'format': 'json', 'date': '2017-5-01', 'enddate': '2017-5-28', 'tp': '3'}\n",
      "{'q': '54.762089,18.495421', 'format': 'json', 'date': '2017-6-01', 'enddate': '2017-6-28', 'tp': '3'}\n",
      "{'q': '54.762089,18.495421', 'format': 'json', 'date': '2017-7-01', 'enddate': '2017-7-28', 'tp': '3'}\n",
      "{'q': '54.762089,18.495421', 'format': 'json', 'date': '2017-8-01', 'enddate': '2017-8-28', 'tp': '3'}\n",
      "{'q': '54.762089,18.495421', 'format': 'json', 'date': '2017-9-01', 'enddate': '2017-9-28', 'tp': '3'}\n",
      "{'q': '54.762089,18.495421', 'format': 'json', 'date': '2017-10-01', 'enddate': '2017-10-28', 'tp': '3'}\n",
      "{'q': '54.762089,18.495421', 'format': 'json', 'date': '2017-11-01', 'enddate': '2017-11-28', 'tp': '3'}\n",
      "{'q': '54.762089,18.495421', 'format': 'json', 'date': '2017-12-01', 'enddate': '2017-12-28', 'tp': '3'}\n",
      "{'q': '54.762089,18.495421', 'format': 'json', 'date': '2018-1-01', 'enddate': '2018-1-28', 'tp': '3'}\n",
      "{'q': '54.762089,18.495421', 'format': 'json', 'date': '2018-2-01', 'enddate': '2018-2-28', 'tp': '3'}\n",
      "{'q': '54.762089,18.495421', 'format': 'json', 'date': '2018-3-01', 'enddate': '2018-3-28', 'tp': '3'}\n",
      "{'q': '54.762089,18.495421', 'format': 'json', 'date': '2018-4-01', 'enddate': '2018-4-28', 'tp': '3'}\n",
      "{'q': '54.762089,18.495421', 'format': 'json', 'date': '2018-5-01', 'enddate': '2018-5-28', 'tp': '3'}\n",
      "{'q': '54.762089,18.495421', 'format': 'json', 'date': '2018-6-01', 'enddate': '2018-6-28', 'tp': '3'}\n",
      "{'q': '54.762089,18.495421', 'format': 'json', 'date': '2018-7-01', 'enddate': '2018-7-28', 'tp': '3'}\n",
      "{'q': '54.762089,18.495421', 'format': 'json', 'date': '2018-8-01', 'enddate': '2018-8-28', 'tp': '3'}\n",
      "{'q': '54.762089,18.495421', 'format': 'json', 'date': '2018-9-01', 'enddate': '2018-9-28', 'tp': '3'}\n",
      "{'q': '54.762089,18.495421', 'format': 'json', 'date': '2018-10-01', 'enddate': '2018-10-28', 'tp': '3'}\n",
      "{'q': '54.762089,18.495421', 'format': 'json', 'date': '2018-11-01', 'enddate': '2018-11-28', 'tp': '3'}\n",
      "{'q': '54.762089,18.495421', 'format': 'json', 'date': '2018-12-01', 'enddate': '2018-12-28', 'tp': '3'}\n",
      "11\n"
     ]
    }
   ],
   "source": [
    "# importing the requests library \n",
    "import requests \n",
    "  \n",
    "# api-endpoint \n",
    "URL = \"http://api.worldweatheronline.com/premium/v1/past-weather.ashx?key=e1dc11cca6c94a879a3202728201201\"\n",
    "\n",
    "#Configs\n",
    "\n",
    "#Locations\n",
    "\n",
    "#Done:\n",
    "Jastarnia = ['Jastarnia', '54.697505,18.664313', '5tt3aX6xbWYGeM90GHDM']\n",
    "Wladyslawowo = ['Władysławowo Pipeline', '54.794529,18.425024', '37qRP1LZ9wV25Gd993UE']\n",
    "\n",
    "#TODO:\n",
    "KuznicaCoords = ['Kuźnica','54.730855,18.579081', 'Zvv2CR4hK1SknPEFvbz0']\n",
    "Chalupy = ['Chałupy', '54.762089,18.495421', 'LJ0e8YQeNM6uoMv54Lqi']\n",
    "PrassonisiCoords = ['Prassonisi','35.886536,27.769626']\n",
    "KarpathosCoords = ['Karpathos','35.439201,27.156805']\n",
    "PlawniowiceCoords = ['Pławniowice','50.390652,18.488286']\n",
    "ElMedanoCoords = ['El Medano','28.039735,-16.542246']\n",
    "DahabCoords = ['Dahab','28.507150,34.520115']\n",
    "\n",
    "#Change SPOT to the correct one!!!\n",
    "SPOT = Chalupy\n",
    "\n",
    "\n",
    "SPOT_NAME = SPOT[0]\n",
    "SPOT_COORDS = SPOT[1]\n",
    "SPOT_KEY = SPOT[2]\n",
    "data = [0] * 11\n",
    "for year in range(9):\n",
    "    data[year] = [0] * 12\n",
    "    for month in range(12):\n",
    "        PARAMS = {'q':SPOT_COORDS,\n",
    "              'format':'json', \n",
    "              'date': str(year + 2010) + '-' + str(month+1) +'-01',\n",
    "              'enddate':str(year + 2010) + '-' +  str((month+1)) +'-28',\n",
    "              'tp':'3'} \n",
    "        print(PARAMS)\n",
    "        data[year][month] = requests.get(url = URL, params = PARAMS).json()\n",
    "print(len(data))"
   ]
  },
  {
   "cell_type": "code",
   "execution_count": 2,
   "metadata": {},
   "outputs": [],
   "source": [
    "# for year in range(9):\n",
    "#     for month in range(12):\n",
    "#         print (len(data[year][month]['data']['weather']))"
   ]
  },
  {
   "cell_type": "code",
   "execution_count": 3,
   "metadata": {},
   "outputs": [],
   "source": [
    "windMonthAverage = [0] * 10\n",
    "tempMonthAverage = [0] * 10\n",
    "bft4DaysInMonth = [0] * 10\n",
    "bft5DaysInMonth = [0] * 10\n",
    "bft6DaysInMonth = [0] * 10\n",
    "bft7DaysInMonth = [0] * 10"
   ]
  },
  {
   "cell_type": "code",
   "execution_count": 4,
   "metadata": {},
   "outputs": [],
   "source": [
    "for year in range(9):\n",
    "    windMonthAverage[year] = [0] * 12\n",
    "    tempMonthAverage[year] = [0] * 12\n",
    "    bft4DaysInMonth[year] = [0] * 12\n",
    "    bft5DaysInMonth[year] = [0] * 12\n",
    "    bft6DaysInMonth[year] = [0] * 12\n",
    "    bft7DaysInMonth[year] = [0] * 12\n",
    "    for month in range(12):\n",
    "        for dayNr in range(28):\n",
    "            checkBft = [True, True, True, True]\n",
    "            for hourNr in range(3):\n",
    "                hourNr = hourNr + 3\n",
    "                hour3WindPower = int(data[year][month]['data']['weather'][dayNr]['hourly'][hourNr]['windspeedKmph'])\n",
    "                if hour3WindPower >= 20 and checkBft[0]:\n",
    "                    bft4DaysInMonth[year][month]+=1\n",
    "                    checkBft[0] = False\n",
    "                if hour3WindPower >= 29 and checkBft[1]:\n",
    "                    bft5DaysInMonth[year][month]+=1\n",
    "                    checkBft[1] = False\n",
    "                if hour3WindPower >= 39 and checkBft[2]:\n",
    "                    bft6DaysInMonth[year][month]+=1\n",
    "                    checkBft[2] = False\n",
    "                if hour3WindPower >= 50 and checkBft[3]:\n",
    "                    bft7DaysInMonth[year][month]+=1\n",
    "                    checkBft[3] = False\n",
    "                windMonthAverage[year][month] = float(windMonthAverage[year][month]) + (hour3WindPower/84)\n",
    "                tempMonthAverage[year][month] = float(tempMonthAverage[year][month]) + (int(data[year][month]['data']['weather'][dayNr]['hourly'][hourNr]['tempC'])/84)"
   ]
  },
  {
   "cell_type": "code",
   "execution_count": 5,
   "metadata": {},
   "outputs": [
    {
     "name": "stdout",
     "output_type": "stream",
     "text": [
      "[[17.976190476190474, 15.428571428571427, 18.059523809523814, 16.65476190476191, 15.559523809523807, 13.773809523809527, 13.630952380952374, 14.369047619047619, 18.91666666666667, 18.392857142857146, 16.01190476190476, 18.96428571428571], [17.273809523809526, 19.23809523809524, 16.750000000000007, 17.761904761904756, 15.214285714285715, 17.19047619047619, 14.809523809523816, 16.071428571428573, 17.619047619047624, 19.28571428571429, 14.726190476190471, 22.94047619047619], [19.821428571428566, 18.869047619047617, 19.1904761904762, 16.642857142857146, 16.726190476190474, 14.726190476190476, 14.273809523809524, 15.285714285714288, 17.79761904761905, 17.190476190476183, 17.702380952380945, 17.20238095238096], [17.10714285714285, 15.726190476190482, 19.107142857142854, 17.309523809523817, 14.214285714285714, 13.726190476190473, 16.595238095238095, 15.380952380952374, 16.547619047619047, 16.071428571428577, 18.738095238095244, 22.119047619047628], [20.53571428571429, 17.76190476190476, 17.32142857142857, 15.72619047619047, 17.511904761904763, 15.583333333333334, 16.226190476190467, 16.988095238095234, 15.988095238095244, 15.226190476190474, 15.345238095238097, 20.392857142857146], [20.452380952380945, 15.845238095238104, 15.380952380952383, 17.333333333333332, 13.738095238095237, 13.166666666666666, 16.595238095238095, 14.154761904761902, 14.559523809523807, 14.500000000000004, 17.41666666666667, 18.67857142857142], [15.41666666666666, 17.142857142857142, 13.79761904761905, 14.583333333333337, 13.702380952380953, 12.61904761904762, 15.464285714285712, 13.55952380952381, 11.321428571428573, 17.047619047619044, 16.34523809523809, 18.428571428571427], [16.190476190476186, 16.988095238095234, 13.273809523809524, 15.178571428571425, 14.26190476190476, 16.309523809523807, 14.98809523809524, 14.36904761904762, 16.32142857142857, 21.452380952380956, 19.130952380952394, 20.738095238095234], [18.047619047619047, 12.773809523809526, 15.559523809523812, 17.5, 13.76190476190476, 13.952380952380953, 15.38095238095238, 14.392857142857144, 16.559523809523817, 18.369047619047624, 13.547619047619056, 17.726190476190474], 0]\n",
      "15.559523809523807\n"
     ]
    }
   ],
   "source": [
    "print(windMonthAverage)\n",
    "print(windMonthAverage[0][4])"
   ]
  },
  {
   "cell_type": "code",
   "execution_count": 6,
   "metadata": {},
   "outputs": [
    {
     "name": "stdout",
     "output_type": "stream",
     "text": [
      "[[-4.833333333333332, -1.3333333333333337, 3.2619047619047628, 8.059523809523805, 11.70238095238095, 17.297619047619037, 23.321428571428573, 21.452380952380963, 15.309523809523803, 8.571428571428557, 5.547619047619042, -4.714285714285712], [-0.0714285714285715, -2.321428571428572, 3.261904761904761, 9.773809523809527, 13.476190476190473, 18.369047619047617, 19.35714285714285, 20.226190476190464, 17.035714285714274, 11.238095238095239, 6.17857142857142, 3.3452380952380936], [1.4166666666666656, -2.940476190476194, 5.476190476190474, 8.559523809523812, 14.619047619047617, 15.940476190476183, 19.952380952380953, 20.38095238095237, 16.72619047619047, 11.357142857142858, 6.095238095238089, -0.8571428571428564], [-2.0119047619047623, 0.36904761904761935, -0.6071428571428572, 7.2142857142857135, 15.04761904761905, 18.785714285714285, 20.4047619047619, 20.797619047619037, 15.535714285714283, 12.011904761904757, 6.761904761904753, 3.4761904761904745], [-0.7857142857142858, 3.6666666666666656, 6.857142857142851, 10.714285714285717, 14.309523809523817, 17.035714285714274, 22.428571428571445, 20.511904761904756, 17.34523809523808, 12.40476190476191, 6.916666666666658, 1.9880952380952381], [1.9642857142857135, 2.3571428571428577, 5.369047619047612, 9.619047619047612, 13.726190476190476, 16.928571428571416, 20.476190476190467, 22.892857142857153, 16.380952380952372, 10.32142857142856, 7.119047619047609, 4.976190476190471], [-1.3333333333333341, 3.6071428571428514, 4.892857142857143, 9.845238095238086, 15.73809523809524, 19.666666666666657, 20.154761904761898, 19.583333333333332, 18.40476190476189, 9.273809523809511, 4.916666666666664, 3.3690476190476155], [-0.2500000000000001, 0.8571428571428569, 5.8095238095238075, 8.08333333333332, 14.321428571428568, 17.916666666666657, 18.416666666666657, 20.261904761904752, 15.797619047619044, 12.071428571428573, 6.309523809523803, 3.4642857142857117], [1.5238095238095228, -1.2261904761904758, 0.9166666666666665, 12.238095238095235, 17.54761904761904, 19.964285714285708, 21.90476190476191, 22.702380952380945, 18.309523809523803, 13.452380952380954, 6.999999999999991, 2.5952380952380945], 0]\n"
     ]
    }
   ],
   "source": [
    "print(tempMonthAverage)"
   ]
  },
  {
   "cell_type": "code",
   "execution_count": 7,
   "metadata": {},
   "outputs": [
    {
     "name": "stdout",
     "output_type": "stream",
     "text": [
      "Min 4bft: [[12, 14, 17, 11, 12, 8, 7, 5, 17, 15, 16, 18], [9, 15, 12, 11, 10, 16, 10, 12, 12, 18, 8, 22], [16, 15, 16, 13, 10, 9, 8, 10, 13, 14, 14, 14], [14, 10, 15, 11, 9, 6, 14, 11, 14, 10, 16, 18], [17, 14, 13, 13, 14, 10, 13, 14, 10, 10, 9, 19], [15, 12, 7, 9, 6, 6, 12, 6, 6, 11, 14, 14], [10, 13, 5, 5, 4, 3, 7, 6, 3, 12, 11, 16], [10, 13, 6, 10, 5, 12, 8, 9, 12, 18, 17, 18], [14, 6, 8, 18, 5, 7, 6, 7, 11, 13, 9, 15], 0]\n",
      "Min 5bft: [[4, 2, 5, 2, 3, 0, 0, 2, 3, 5, 3, 5], [2, 5, 4, 3, 2, 3, 0, 3, 2, 5, 2, 12], [5, 5, 6, 4, 1, 3, 1, 1, 3, 5, 2, 3], [2, 1, 8, 2, 0, 1, 1, 2, 2, 2, 5, 6], [6, 1, 2, 0, 2, 1, 1, 1, 2, 2, 1, 7], [11, 2, 1, 2, 1, 0, 2, 0, 0, 1, 5, 5], [1, 2, 0, 0, 0, 0, 1, 0, 0, 4, 3, 4], [4, 4, 1, 4, 0, 1, 0, 0, 4, 10, 5, 7], [5, 0, 2, 2, 0, 1, 1, 1, 4, 6, 0, 2], 0]\n",
      "Min 6bft: [[2, 0, 1, 0, 0, 0, 0, 0, 0, 0, 0, 1], [0, 1, 0, 2, 0, 0, 0, 1, 0, 0, 1, 0], [2, 3, 1, 0, 0, 0, 0, 0, 0, 1, 0, 0], [0, 0, 0, 0, 0, 0, 0, 0, 0, 0, 0, 1], [0, 0, 2, 0, 0, 0, 0, 0, 0, 0, 1, 0], [3, 0, 0, 0, 0, 0, 0, 0, 0, 0, 1, 0], [0, 1, 0, 0, 0, 0, 0, 0, 0, 0, 0, 0], [0, 0, 0, 0, 0, 0, 0, 0, 0, 2, 0, 1], [1, 0, 0, 0, 0, 0, 0, 0, 0, 2, 0, 0], 0]\n",
      "Min 7bft: [[0, 0, 0, 0, 0, 0, 0, 0, 0, 0, 0, 0], [0, 0, 0, 0, 0, 0, 0, 0, 0, 0, 0, 0], [0, 0, 0, 0, 0, 0, 0, 0, 0, 0, 0, 0], [0, 0, 0, 0, 0, 0, 0, 0, 0, 0, 0, 1], [0, 0, 0, 0, 0, 0, 0, 0, 0, 0, 0, 0], [0, 0, 0, 0, 0, 0, 0, 0, 0, 0, 0, 0], [0, 0, 0, 0, 0, 0, 0, 0, 0, 0, 0, 0], [0, 0, 0, 0, 0, 0, 0, 0, 0, 0, 0, 0], [0, 0, 0, 0, 0, 0, 0, 0, 0, 0, 0, 0], 0]\n"
     ]
    }
   ],
   "source": [
    "print(\"Min 4bft: \" + str(bft4DaysInMonth))\n",
    "print(\"Min 5bft: \" + str(bft5DaysInMonth))\n",
    "print(\"Min 6bft: \" + str(bft6DaysInMonth))\n",
    "print(\"Min 7bft: \" + str(bft7DaysInMonth))"
   ]
  },
  {
   "cell_type": "code",
   "execution_count": 8,
   "metadata": {},
   "outputs": [
    {
     "name": "stdout",
     "output_type": "stream",
     "text": [
      "[16, 15, 15, 15, 13, 13, 14, 13, 15, 16, 15, 18]\n"
     ]
    }
   ],
   "source": [
    "wind10YearsMonthAverage = [0.0] * 12\n",
    "for month in range(12):\n",
    "    monthsum = 0.0\n",
    "    for year in range(9):\n",
    "        monthsum += windMonthAverage[year][month]\n",
    "    wind10YearsMonthAverage[month] = round(monthsum/10)\n",
    "print(wind10YearsMonthAverage)"
   ]
  },
  {
   "cell_type": "code",
   "execution_count": 9,
   "metadata": {},
   "outputs": [
    {
     "name": "stdout",
     "output_type": "stream",
     "text": [
      "[0, 0, 4, 8, 13, 16, 19, 19, 15, 10, 6, 2]\n"
     ]
    }
   ],
   "source": [
    "temp10YearsMonthAverage = [0.0] * 12\n",
    "for month in range(12):\n",
    "    monthsum = 0.0\n",
    "    for year in range(9):\n",
    "        monthsum += tempMonthAverage[year][month]\n",
    "    temp10YearsMonthAverage[month] = round(monthsum/10)\n",
    "print(temp10YearsMonthAverage)"
   ]
  },
  {
   "cell_type": "code",
   "execution_count": 10,
   "metadata": {},
   "outputs": [
    {
     "name": "stdout",
     "output_type": "stream",
     "text": [
      "[12, 11, 10, 10, 8, 8, 8, 8, 10, 12, 11, 15]\n"
     ]
    }
   ],
   "source": [
    "bft4_10YearsMonthAverage = [0.0] * 12\n",
    "for month in range(12):\n",
    "    monthsum = 0.0\n",
    "    for year in range(9):\n",
    "        monthsum += bft4DaysInMonth[year][month]\n",
    "    bft4_10YearsMonthAverage[month] = round(monthsum/10)\n",
    "print(bft4_10YearsMonthAverage)"
   ]
  },
  {
   "cell_type": "code",
   "execution_count": 11,
   "metadata": {},
   "outputs": [
    {
     "name": "stdout",
     "output_type": "stream",
     "text": [
      "[4, 2, 3, 2, 1, 1, 1, 1, 2, 4, 3, 5]\n"
     ]
    }
   ],
   "source": [
    "bft5_10YearsMonthAverage = [0.0] * 12\n",
    "for month in range(12):\n",
    "    monthsum = 0.0\n",
    "    for year in range(9):\n",
    "        monthsum += bft5DaysInMonth[year][month]\n",
    "    bft5_10YearsMonthAverage[month] = round(monthsum/10)\n",
    "print(bft5_10YearsMonthAverage)"
   ]
  },
  {
   "cell_type": "code",
   "execution_count": 12,
   "metadata": {},
   "outputs": [
    {
     "name": "stdout",
     "output_type": "stream",
     "text": [
      "[1, 0, 0, 0, 0, 0, 0, 0, 0, 0, 0, 0]\n"
     ]
    }
   ],
   "source": [
    "bft6_10YearsMonthAverage = [0.0] * 12\n",
    "for month in range(12):\n",
    "    monthsum = 0.0\n",
    "    for year in range(9):\n",
    "        monthsum += bft6DaysInMonth[year][month]\n",
    "    bft6_10YearsMonthAverage[month] = round(monthsum/10)\n",
    "print(bft6_10YearsMonthAverage)"
   ]
  },
  {
   "cell_type": "code",
   "execution_count": 13,
   "metadata": {},
   "outputs": [
    {
     "name": "stdout",
     "output_type": "stream",
     "text": [
      "[0, 0, 0, 0, 0, 0, 0, 0, 0, 0, 0, 0]\n"
     ]
    }
   ],
   "source": [
    "bft7_10YearsMonthAverage = [0.0] * 12\n",
    "for month in range(12):\n",
    "    monthsum = 0.0\n",
    "    for year in range(9):\n",
    "        monthsum += bft7DaysInMonth[year][month]\n",
    "    bft7_10YearsMonthAverage[month] = round(monthsum/10)\n",
    "print(bft7_10YearsMonthAverage)"
   ]
  },
  {
   "cell_type": "code",
   "execution_count": 14,
   "metadata": {},
   "outputs": [],
   "source": [
    "file = open(SPOT_NAME + \".txt\", \"w\") \n",
    "file.write('<WIND_AVERAGE>' + ' = ' + str(wind10YearsMonthAverage) +'\\n') \n",
    "file.write('<TEMP_AVERAGE>' + ' = ' + str(temp10YearsMonthAverage) +'\\n') \n",
    "file.write('<DAYS_4BFT>' + ' = ' + str(bft4_10YearsMonthAverage) +'\\n') \n",
    "file.write('<DAYS_5BFT>' + ' = ' + str(bft5_10YearsMonthAverage) +'\\n') \n",
    "file.write('<DAYS_6BFT>' + ' = ' + str(bft6_10YearsMonthAverage) +'\\n') \n",
    "file.write('<DAYS_7BFT>' + ' = ' + str(bft7_10YearsMonthAverage) +'\\n') \n",
    "file.close() "
   ]
  },
  {
   "cell_type": "code",
   "execution_count": 15,
   "metadata": {},
   "outputs": [],
   "source": [
    "def implicit():\n",
    "    from google.cloud import storage\n",
    "\n",
    "    # If you don't specify credentials when constructing the client, the\n",
    "    # client library will look for credentials in the environment.\n",
    "    storage_client = storage.Client()\n",
    "\n",
    "    # Make an authenticated API request\n",
    "    buckets = list(storage_client.list_buckets())\n",
    "    print(buckets)"
   ]
  },
  {
   "cell_type": "code",
   "execution_count": 16,
   "metadata": {},
   "outputs": [
    {
     "name": "stdout",
     "output_type": "stream",
     "text": [
      "<google.oauth2.service_account.Credentials object at 0x000001B1BF683588>\n"
     ]
    }
   ],
   "source": [
    "from google.oauth2 import service_account\n",
    "\n",
    "credentials = service_account.Credentials.from_service_account_file(\n",
    "    r'C:\\Users\\Jgasi\\OneDrive\\Pulpit\\SurfAdvisor_2_0\\prognowind-firebase-adminsdk-c9djf-5d8fe1b741.json')\n",
    "print(credentials)"
   ]
  },
  {
   "cell_type": "code",
   "execution_count": 17,
   "metadata": {},
   "outputs": [
    {
     "data": {
      "text/plain": [
       "<firebase_admin.App at 0x1b1bf68ad48>"
      ]
     },
     "execution_count": 17,
     "metadata": {},
     "output_type": "execute_result"
    }
   ],
   "source": [
    "import firebase_admin\n",
    "from firebase_admin import credentials\n",
    "from firebase_admin import firestore\n",
    "\n",
    "PROJECT_ID = '586042170144:android:1dbc7120143b2b4a235545'\n",
    "\n",
    "cred = credentials.Certificate(r'C:\\Users\\Jgasi\\OneDrive\\Pulpit\\SurfAdvisor_2_0\\prognowind-firebase-adminsdk-c9djf-5d8fe1b741.json')\n",
    "firebase_admin.initialize_app(cred)\n"
   ]
  },
  {
   "cell_type": "code",
   "execution_count": 18,
   "metadata": {},
   "outputs": [],
   "source": [
    "db = firestore.client()\n",
    "# users_ref = db.collection(u'spots')\n",
    "# docs = users_ref.stream()\n",
    "\n",
    "# for doc in docs:\n",
    "#     print(u'{} => {}'.format(doc.id, doc.to_dict()))"
   ]
  },
  {
   "cell_type": "code",
   "execution_count": 19,
   "metadata": {},
   "outputs": [
    {
     "data": {
      "text/plain": [
       "update_time {\n",
       "  seconds: 1580313352\n",
       "  nanos: 550860000\n",
       "}"
      ]
     },
     "execution_count": 19,
     "metadata": {},
     "output_type": "execute_result"
    }
   ],
   "source": [
    "doc_ref = db.collection(u'spots').document(u''+SPOT_KEY)\n",
    "\n",
    "# Set the capital field\n",
    "doc_ref.update({u'WIND_AVERAGE' : wind10YearsMonthAverage})\n",
    "doc_ref.update({u'TEMP_AVERAGE' : temp10YearsMonthAverage}) \n",
    "doc_ref.update({u'DAYS_4BFT' : bft4_10YearsMonthAverage}) \n",
    "doc_ref.update({u'DAYS_5BFT' : bft5_10YearsMonthAverage}) \n",
    "doc_ref.update({u'DAYS_6BFT' : bft6_10YearsMonthAverage}) \n",
    "doc_ref.update({u'DAYS_7BFT' : bft7_10YearsMonthAverage}) "
   ]
  },
  {
   "cell_type": "code",
   "execution_count": null,
   "metadata": {},
   "outputs": [],
   "source": []
  }
 ],
 "metadata": {
  "kernelspec": {
   "display_name": "Python 3",
   "language": "python",
   "name": "python3"
  },
  "language_info": {
   "codemirror_mode": {
    "name": "ipython",
    "version": 3
   },
   "file_extension": ".py",
   "mimetype": "text/x-python",
   "name": "python",
   "nbconvert_exporter": "python",
   "pygments_lexer": "ipython3",
   "version": "3.7.4"
  }
 },
 "nbformat": 4,
 "nbformat_minor": 2
}
