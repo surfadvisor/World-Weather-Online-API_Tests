{
 "cells": [
  {
   "cell_type": "code",
   "execution_count": 31,
   "metadata": {},
   "outputs": [
    {
     "name": "stdout",
     "output_type": "stream",
     "text": [
      "{'q': '28.507150,34.520115', 'format': 'json', 'date': '2013-1-01', 'enddate': '2013-1-28', 'tp': '3'}\n",
      "{'q': '28.507150,34.520115', 'format': 'json', 'date': '2013-2-01', 'enddate': '2013-2-28', 'tp': '3'}\n",
      "{'q': '28.507150,34.520115', 'format': 'json', 'date': '2013-3-01', 'enddate': '2013-3-28', 'tp': '3'}\n",
      "{'q': '28.507150,34.520115', 'format': 'json', 'date': '2013-4-01', 'enddate': '2013-4-28', 'tp': '3'}\n",
      "{'q': '28.507150,34.520115', 'format': 'json', 'date': '2013-5-01', 'enddate': '2013-5-28', 'tp': '3'}\n",
      "{'q': '28.507150,34.520115', 'format': 'json', 'date': '2013-6-01', 'enddate': '2013-6-28', 'tp': '3'}\n",
      "{'q': '28.507150,34.520115', 'format': 'json', 'date': '2013-7-01', 'enddate': '2013-7-28', 'tp': '3'}\n",
      "{'q': '28.507150,34.520115', 'format': 'json', 'date': '2013-8-01', 'enddate': '2013-8-28', 'tp': '3'}\n",
      "{'q': '28.507150,34.520115', 'format': 'json', 'date': '2013-9-01', 'enddate': '2013-9-28', 'tp': '3'}\n",
      "{'q': '28.507150,34.520115', 'format': 'json', 'date': '2013-10-01', 'enddate': '2013-10-28', 'tp': '3'}\n",
      "{'q': '28.507150,34.520115', 'format': 'json', 'date': '2013-11-01', 'enddate': '2013-11-28', 'tp': '3'}\n",
      "{'q': '28.507150,34.520115', 'format': 'json', 'date': '2013-12-01', 'enddate': '2013-12-28', 'tp': '3'}\n"
     ]
    }
   ],
   "source": [
    "# importing the requests library \n",
    "import requests \n",
    "  \n",
    "# api-endpoint \n",
    "URL = \"http://api.worldweatheronline.com/premium/v1/past-weather.ashx?key=e1dc11cca6c94a879a3202728201201\"\n",
    "KuznicaCoords = '54.730855,18.579081'\n",
    "PrassonisiCoords = '35.886536,27.769626'\n",
    "KarpathosCoords = '35.439201,27.156805'\n",
    "PlawniowiceCoords = '50.390652,18.488286'\n",
    "ElMedanoCoords = '28.039735,-16.542246'\n",
    "DahabCoords = '28.507150,34.520115'\n",
    "# sending get request and saving the response as response object \n",
    "data = [0] * 12\n",
    "for month in range(12):\n",
    "    PARAMS = {'q':DahabCoords,\n",
    "          'format':'json', \n",
    "          'date':'2013-'+ str(month+1) +'-01',\n",
    "          'enddate':'2013-' + str((month+1)) +'-28',\n",
    "          'tp':'3'} \n",
    "    print(PARAMS)\n",
    "    data[month] = requests.get(url = URL, params = PARAMS).json()"
   ]
  },
  {
   "cell_type": "code",
   "execution_count": 32,
   "metadata": {},
   "outputs": [
    {
     "name": "stdout",
     "output_type": "stream",
     "text": [
      "28\n",
      "28\n",
      "28\n",
      "28\n",
      "28\n",
      "28\n",
      "28\n",
      "28\n",
      "28\n",
      "28\n",
      "28\n",
      "28\n"
     ]
    }
   ],
   "source": [
    "for month in range(12):\n",
    "    print (len(data[month]['data']['weather']))"
   ]
  },
  {
   "cell_type": "code",
   "execution_count": 33,
   "metadata": {},
   "outputs": [],
   "source": [
    "windMonthAverage = [0] * 12\n",
    "tempMonthAverage = [0] * 12"
   ]
  },
  {
   "cell_type": "code",
   "execution_count": 37,
   "metadata": {},
   "outputs": [],
   "source": [
    "for month in range(12):\n",
    "    for dayNr in range(28):\n",
    "        for hourNr in range(3):\n",
    "            hourNr = hourNr + 3\n",
    "            windMonthAverage[month] = float(windMonthAverage[month]) + (int(data[month]['data']['weather'][dayNr]['hourly'][hourNr]['windspeedKmph'])/84)\n",
    "            tempMonthAverage[month] = float(tempMonthAverage[month]) + (int(data[month]['data']['weather'][dayNr]['hourly'][hourNr]['tempC'])/84)"
   ]
  },
  {
   "cell_type": "code",
   "execution_count": 35,
   "metadata": {},
   "outputs": [
    {
     "name": "stdout",
     "output_type": "stream",
     "text": [
      "[12.333333333333332, 14.464285714285715, 17.083333333333332, 15.11904761904762, 16.880952380952394, 17.571428571428566, 18.869047619047613, 14.988095238095244, 17.273809523809522, 16.345238095238088, 11.488095238095237, 13.571428571428577]\n"
     ]
    }
   ],
   "source": [
    "print(windMonthAverage)"
   ]
  },
  {
   "cell_type": "code",
   "execution_count": 36,
   "metadata": {},
   "outputs": [
    {
     "name": "stdout",
     "output_type": "stream",
     "text": [
      "[18.595238095238102, 20.45238095238095, 23.297619047619055, 24.654761904761934, 28.83333333333334, 31.39285714285715, 32.595238095238095, 32.428571428571416, 31.607142857142858, 27.40476190476191, 24.154761904761916, 18.845238095238077]\n"
     ]
    }
   ],
   "source": [
    "print(tempMonthAverage)"
   ]
  },
  {
   "cell_type": "code",
   "execution_count": null,
   "metadata": {},
   "outputs": [],
   "source": []
  }
 ],
 "metadata": {
  "kernelspec": {
   "display_name": "Python 3",
   "language": "python",
   "name": "python3"
  },
  "language_info": {
   "codemirror_mode": {
    "name": "ipython",
    "version": 3
   },
   "file_extension": ".py",
   "mimetype": "text/x-python",
   "name": "python",
   "nbconvert_exporter": "python",
   "pygments_lexer": "ipython3",
   "version": "3.7.4"
  }
 },
 "nbformat": 4,
 "nbformat_minor": 2
}
