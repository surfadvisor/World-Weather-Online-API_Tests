{
 "cells": [
  {
   "cell_type": "code",
   "execution_count": 116,
   "metadata": {},
   "outputs": [
    {
     "name": "stdout",
     "output_type": "stream",
     "text": [
      "{'q': '50.391945,18.482656', 'format': 'json', 'date': '2010-1-01', 'enddate': '2010-1-28', 'tp': '3'}\n",
      "{'q': '50.391945,18.482656', 'format': 'json', 'date': '2010-2-01', 'enddate': '2010-2-28', 'tp': '3'}\n",
      "{'q': '50.391945,18.482656', 'format': 'json', 'date': '2010-3-01', 'enddate': '2010-3-28', 'tp': '3'}\n",
      "{'q': '50.391945,18.482656', 'format': 'json', 'date': '2010-4-01', 'enddate': '2010-4-28', 'tp': '3'}\n",
      "{'q': '50.391945,18.482656', 'format': 'json', 'date': '2010-5-01', 'enddate': '2010-5-28', 'tp': '3'}\n",
      "{'q': '50.391945,18.482656', 'format': 'json', 'date': '2010-6-01', 'enddate': '2010-6-28', 'tp': '3'}\n",
      "{'q': '50.391945,18.482656', 'format': 'json', 'date': '2010-7-01', 'enddate': '2010-7-28', 'tp': '3'}\n",
      "{'q': '50.391945,18.482656', 'format': 'json', 'date': '2010-8-01', 'enddate': '2010-8-28', 'tp': '3'}\n",
      "{'q': '50.391945,18.482656', 'format': 'json', 'date': '2010-9-01', 'enddate': '2010-9-28', 'tp': '3'}\n",
      "{'q': '50.391945,18.482656', 'format': 'json', 'date': '2010-10-01', 'enddate': '2010-10-28', 'tp': '3'}\n",
      "{'q': '50.391945,18.482656', 'format': 'json', 'date': '2010-11-01', 'enddate': '2010-11-28', 'tp': '3'}\n",
      "{'q': '50.391945,18.482656', 'format': 'json', 'date': '2010-12-01', 'enddate': '2010-12-28', 'tp': '3'}\n",
      "{'q': '50.391945,18.482656', 'format': 'json', 'date': '2011-1-01', 'enddate': '2011-1-28', 'tp': '3'}\n",
      "{'q': '50.391945,18.482656', 'format': 'json', 'date': '2011-2-01', 'enddate': '2011-2-28', 'tp': '3'}\n",
      "{'q': '50.391945,18.482656', 'format': 'json', 'date': '2011-3-01', 'enddate': '2011-3-28', 'tp': '3'}\n",
      "{'q': '50.391945,18.482656', 'format': 'json', 'date': '2011-4-01', 'enddate': '2011-4-28', 'tp': '3'}\n",
      "{'q': '50.391945,18.482656', 'format': 'json', 'date': '2011-5-01', 'enddate': '2011-5-28', 'tp': '3'}\n",
      "{'q': '50.391945,18.482656', 'format': 'json', 'date': '2011-6-01', 'enddate': '2011-6-28', 'tp': '3'}\n",
      "{'q': '50.391945,18.482656', 'format': 'json', 'date': '2011-7-01', 'enddate': '2011-7-28', 'tp': '3'}\n",
      "{'q': '50.391945,18.482656', 'format': 'json', 'date': '2011-8-01', 'enddate': '2011-8-28', 'tp': '3'}\n",
      "{'q': '50.391945,18.482656', 'format': 'json', 'date': '2011-9-01', 'enddate': '2011-9-28', 'tp': '3'}\n",
      "{'q': '50.391945,18.482656', 'format': 'json', 'date': '2011-10-01', 'enddate': '2011-10-28', 'tp': '3'}\n",
      "{'q': '50.391945,18.482656', 'format': 'json', 'date': '2011-11-01', 'enddate': '2011-11-28', 'tp': '3'}\n",
      "{'q': '50.391945,18.482656', 'format': 'json', 'date': '2011-12-01', 'enddate': '2011-12-28', 'tp': '3'}\n",
      "{'q': '50.391945,18.482656', 'format': 'json', 'date': '2012-1-01', 'enddate': '2012-1-28', 'tp': '3'}\n",
      "{'q': '50.391945,18.482656', 'format': 'json', 'date': '2012-2-01', 'enddate': '2012-2-28', 'tp': '3'}\n",
      "{'q': '50.391945,18.482656', 'format': 'json', 'date': '2012-3-01', 'enddate': '2012-3-28', 'tp': '3'}\n",
      "{'q': '50.391945,18.482656', 'format': 'json', 'date': '2012-4-01', 'enddate': '2012-4-28', 'tp': '3'}\n",
      "{'q': '50.391945,18.482656', 'format': 'json', 'date': '2012-5-01', 'enddate': '2012-5-28', 'tp': '3'}\n",
      "{'q': '50.391945,18.482656', 'format': 'json', 'date': '2012-6-01', 'enddate': '2012-6-28', 'tp': '3'}\n",
      "{'q': '50.391945,18.482656', 'format': 'json', 'date': '2012-7-01', 'enddate': '2012-7-28', 'tp': '3'}\n",
      "{'q': '50.391945,18.482656', 'format': 'json', 'date': '2012-8-01', 'enddate': '2012-8-28', 'tp': '3'}\n",
      "{'q': '50.391945,18.482656', 'format': 'json', 'date': '2012-9-01', 'enddate': '2012-9-28', 'tp': '3'}\n",
      "{'q': '50.391945,18.482656', 'format': 'json', 'date': '2012-10-01', 'enddate': '2012-10-28', 'tp': '3'}\n",
      "{'q': '50.391945,18.482656', 'format': 'json', 'date': '2012-11-01', 'enddate': '2012-11-28', 'tp': '3'}\n",
      "{'q': '50.391945,18.482656', 'format': 'json', 'date': '2012-12-01', 'enddate': '2012-12-28', 'tp': '3'}\n",
      "{'q': '50.391945,18.482656', 'format': 'json', 'date': '2013-1-01', 'enddate': '2013-1-28', 'tp': '3'}\n",
      "{'q': '50.391945,18.482656', 'format': 'json', 'date': '2013-2-01', 'enddate': '2013-2-28', 'tp': '3'}\n",
      "{'q': '50.391945,18.482656', 'format': 'json', 'date': '2013-3-01', 'enddate': '2013-3-28', 'tp': '3'}\n",
      "{'q': '50.391945,18.482656', 'format': 'json', 'date': '2013-4-01', 'enddate': '2013-4-28', 'tp': '3'}\n",
      "{'q': '50.391945,18.482656', 'format': 'json', 'date': '2013-5-01', 'enddate': '2013-5-28', 'tp': '3'}\n",
      "{'q': '50.391945,18.482656', 'format': 'json', 'date': '2013-6-01', 'enddate': '2013-6-28', 'tp': '3'}\n",
      "{'q': '50.391945,18.482656', 'format': 'json', 'date': '2013-7-01', 'enddate': '2013-7-28', 'tp': '3'}\n",
      "{'q': '50.391945,18.482656', 'format': 'json', 'date': '2013-8-01', 'enddate': '2013-8-28', 'tp': '3'}\n",
      "{'q': '50.391945,18.482656', 'format': 'json', 'date': '2013-9-01', 'enddate': '2013-9-28', 'tp': '3'}\n",
      "{'q': '50.391945,18.482656', 'format': 'json', 'date': '2013-10-01', 'enddate': '2013-10-28', 'tp': '3'}\n",
      "{'q': '50.391945,18.482656', 'format': 'json', 'date': '2013-11-01', 'enddate': '2013-11-28', 'tp': '3'}\n",
      "{'q': '50.391945,18.482656', 'format': 'json', 'date': '2013-12-01', 'enddate': '2013-12-28', 'tp': '3'}\n",
      "{'q': '50.391945,18.482656', 'format': 'json', 'date': '2014-1-01', 'enddate': '2014-1-28', 'tp': '3'}\n",
      "{'q': '50.391945,18.482656', 'format': 'json', 'date': '2014-2-01', 'enddate': '2014-2-28', 'tp': '3'}\n",
      "{'q': '50.391945,18.482656', 'format': 'json', 'date': '2014-3-01', 'enddate': '2014-3-28', 'tp': '3'}\n",
      "{'q': '50.391945,18.482656', 'format': 'json', 'date': '2014-4-01', 'enddate': '2014-4-28', 'tp': '3'}\n",
      "{'q': '50.391945,18.482656', 'format': 'json', 'date': '2014-5-01', 'enddate': '2014-5-28', 'tp': '3'}\n",
      "{'q': '50.391945,18.482656', 'format': 'json', 'date': '2014-6-01', 'enddate': '2014-6-28', 'tp': '3'}\n",
      "{'q': '50.391945,18.482656', 'format': 'json', 'date': '2014-7-01', 'enddate': '2014-7-28', 'tp': '3'}\n",
      "{'q': '50.391945,18.482656', 'format': 'json', 'date': '2014-8-01', 'enddate': '2014-8-28', 'tp': '3'}\n",
      "{'q': '50.391945,18.482656', 'format': 'json', 'date': '2014-9-01', 'enddate': '2014-9-28', 'tp': '3'}\n",
      "{'q': '50.391945,18.482656', 'format': 'json', 'date': '2014-10-01', 'enddate': '2014-10-28', 'tp': '3'}\n",
      "{'q': '50.391945,18.482656', 'format': 'json', 'date': '2014-11-01', 'enddate': '2014-11-28', 'tp': '3'}\n",
      "{'q': '50.391945,18.482656', 'format': 'json', 'date': '2014-12-01', 'enddate': '2014-12-28', 'tp': '3'}\n",
      "{'q': '50.391945,18.482656', 'format': 'json', 'date': '2015-1-01', 'enddate': '2015-1-28', 'tp': '3'}\n",
      "{'q': '50.391945,18.482656', 'format': 'json', 'date': '2015-2-01', 'enddate': '2015-2-28', 'tp': '3'}\n",
      "{'q': '50.391945,18.482656', 'format': 'json', 'date': '2015-3-01', 'enddate': '2015-3-28', 'tp': '3'}\n",
      "{'q': '50.391945,18.482656', 'format': 'json', 'date': '2015-4-01', 'enddate': '2015-4-28', 'tp': '3'}\n",
      "{'q': '50.391945,18.482656', 'format': 'json', 'date': '2015-5-01', 'enddate': '2015-5-28', 'tp': '3'}\n",
      "{'q': '50.391945,18.482656', 'format': 'json', 'date': '2015-6-01', 'enddate': '2015-6-28', 'tp': '3'}\n",
      "{'q': '50.391945,18.482656', 'format': 'json', 'date': '2015-7-01', 'enddate': '2015-7-28', 'tp': '3'}\n",
      "{'q': '50.391945,18.482656', 'format': 'json', 'date': '2015-8-01', 'enddate': '2015-8-28', 'tp': '3'}\n",
      "{'q': '50.391945,18.482656', 'format': 'json', 'date': '2015-9-01', 'enddate': '2015-9-28', 'tp': '3'}\n",
      "{'q': '50.391945,18.482656', 'format': 'json', 'date': '2015-10-01', 'enddate': '2015-10-28', 'tp': '3'}\n",
      "{'q': '50.391945,18.482656', 'format': 'json', 'date': '2015-11-01', 'enddate': '2015-11-28', 'tp': '3'}\n",
      "{'q': '50.391945,18.482656', 'format': 'json', 'date': '2015-12-01', 'enddate': '2015-12-28', 'tp': '3'}\n",
      "{'q': '50.391945,18.482656', 'format': 'json', 'date': '2016-1-01', 'enddate': '2016-1-28', 'tp': '3'}\n",
      "{'q': '50.391945,18.482656', 'format': 'json', 'date': '2016-2-01', 'enddate': '2016-2-28', 'tp': '3'}\n",
      "{'q': '50.391945,18.482656', 'format': 'json', 'date': '2016-3-01', 'enddate': '2016-3-28', 'tp': '3'}\n",
      "{'q': '50.391945,18.482656', 'format': 'json', 'date': '2016-4-01', 'enddate': '2016-4-28', 'tp': '3'}\n",
      "{'q': '50.391945,18.482656', 'format': 'json', 'date': '2016-5-01', 'enddate': '2016-5-28', 'tp': '3'}\n",
      "{'q': '50.391945,18.482656', 'format': 'json', 'date': '2016-6-01', 'enddate': '2016-6-28', 'tp': '3'}\n",
      "{'q': '50.391945,18.482656', 'format': 'json', 'date': '2016-7-01', 'enddate': '2016-7-28', 'tp': '3'}\n",
      "{'q': '50.391945,18.482656', 'format': 'json', 'date': '2016-8-01', 'enddate': '2016-8-28', 'tp': '3'}\n",
      "{'q': '50.391945,18.482656', 'format': 'json', 'date': '2016-9-01', 'enddate': '2016-9-28', 'tp': '3'}\n"
     ]
    },
    {
     "name": "stdout",
     "output_type": "stream",
     "text": [
      "{'q': '50.391945,18.482656', 'format': 'json', 'date': '2016-10-01', 'enddate': '2016-10-28', 'tp': '3'}\n",
      "{'q': '50.391945,18.482656', 'format': 'json', 'date': '2016-11-01', 'enddate': '2016-11-28', 'tp': '3'}\n",
      "{'q': '50.391945,18.482656', 'format': 'json', 'date': '2016-12-01', 'enddate': '2016-12-28', 'tp': '3'}\n",
      "{'q': '50.391945,18.482656', 'format': 'json', 'date': '2017-1-01', 'enddate': '2017-1-28', 'tp': '3'}\n",
      "{'q': '50.391945,18.482656', 'format': 'json', 'date': '2017-2-01', 'enddate': '2017-2-28', 'tp': '3'}\n",
      "{'q': '50.391945,18.482656', 'format': 'json', 'date': '2017-3-01', 'enddate': '2017-3-28', 'tp': '3'}\n",
      "{'q': '50.391945,18.482656', 'format': 'json', 'date': '2017-4-01', 'enddate': '2017-4-28', 'tp': '3'}\n",
      "{'q': '50.391945,18.482656', 'format': 'json', 'date': '2017-5-01', 'enddate': '2017-5-28', 'tp': '3'}\n",
      "{'q': '50.391945,18.482656', 'format': 'json', 'date': '2017-6-01', 'enddate': '2017-6-28', 'tp': '3'}\n",
      "{'q': '50.391945,18.482656', 'format': 'json', 'date': '2017-7-01', 'enddate': '2017-7-28', 'tp': '3'}\n",
      "{'q': '50.391945,18.482656', 'format': 'json', 'date': '2017-8-01', 'enddate': '2017-8-28', 'tp': '3'}\n",
      "{'q': '50.391945,18.482656', 'format': 'json', 'date': '2017-9-01', 'enddate': '2017-9-28', 'tp': '3'}\n",
      "{'q': '50.391945,18.482656', 'format': 'json', 'date': '2017-10-01', 'enddate': '2017-10-28', 'tp': '3'}\n",
      "{'q': '50.391945,18.482656', 'format': 'json', 'date': '2017-11-01', 'enddate': '2017-11-28', 'tp': '3'}\n",
      "{'q': '50.391945,18.482656', 'format': 'json', 'date': '2017-12-01', 'enddate': '2017-12-28', 'tp': '3'}\n",
      "{'q': '50.391945,18.482656', 'format': 'json', 'date': '2018-1-01', 'enddate': '2018-1-28', 'tp': '3'}\n",
      "{'q': '50.391945,18.482656', 'format': 'json', 'date': '2018-2-01', 'enddate': '2018-2-28', 'tp': '3'}\n",
      "{'q': '50.391945,18.482656', 'format': 'json', 'date': '2018-3-01', 'enddate': '2018-3-28', 'tp': '3'}\n",
      "{'q': '50.391945,18.482656', 'format': 'json', 'date': '2018-4-01', 'enddate': '2018-4-28', 'tp': '3'}\n",
      "{'q': '50.391945,18.482656', 'format': 'json', 'date': '2018-5-01', 'enddate': '2018-5-28', 'tp': '3'}\n",
      "{'q': '50.391945,18.482656', 'format': 'json', 'date': '2018-6-01', 'enddate': '2018-6-28', 'tp': '3'}\n",
      "{'q': '50.391945,18.482656', 'format': 'json', 'date': '2018-7-01', 'enddate': '2018-7-28', 'tp': '3'}\n",
      "{'q': '50.391945,18.482656', 'format': 'json', 'date': '2018-8-01', 'enddate': '2018-8-28', 'tp': '3'}\n",
      "{'q': '50.391945,18.482656', 'format': 'json', 'date': '2018-9-01', 'enddate': '2018-9-28', 'tp': '3'}\n",
      "{'q': '50.391945,18.482656', 'format': 'json', 'date': '2018-10-01', 'enddate': '2018-10-28', 'tp': '3'}\n",
      "{'q': '50.391945,18.482656', 'format': 'json', 'date': '2018-11-01', 'enddate': '2018-11-28', 'tp': '3'}\n",
      "{'q': '50.391945,18.482656', 'format': 'json', 'date': '2018-12-01', 'enddate': '2018-12-28', 'tp': '3'}\n",
      "11\n"
     ]
    }
   ],
   "source": [
    "# importing the requests library \n",
    "import requests \n",
    "  \n",
    "# api-endpoint \n",
    "URL = \"http://api.worldweatheronline.com/premium/v1/past-weather.ashx?key=e1dc11cca6c94a879a3202728201201\"\n",
    "\n",
    "#Configs\n",
    "\n",
    "#Locations\n",
    "\n",
    "#Done:\n",
    "Jastarnia = ['Jastarnia', '54.697229,18.666890', '5tt3aX6xbWYGeM90GHDM']\n",
    "Wladyslawowo_Pipeline = ['Władysławowo Pipeline', '54.793953,18.430059', '37qRP1LZ9wV25Gd993UE']\n",
    "Kuznica = ['Kuźnica','54.730721,18.585750', 'Zvv2CR4hK1SknPEFvbz0']\n",
    "Chalupy_6 = ['Chałupy', '54.761349,18.494295', 'LJ0e8YQeNM6uoMv54Lqi']\n",
    "Prassonisi = ['Prassonisi','35.889954,27.763748','OWgy3UahWpB0RvywibZh']\n",
    "Karpathos = ['Karpathos','35.439105,27.157266','v1XygwZd11TDMsc7EWLj']\n",
    "\n",
    "#TODO:\n",
    "Plawniowice = ['Pławniowice','50.391945,18.482656','tkcQSxSRhKp1CPHpjncL']\n",
    "\n",
    "\n",
    "ElMedano = ['El Medano','28.039735,-16.542246']\n",
    "Dahab = ['Dahab','28.507150,34.520115']\n",
    "\n",
    "#Change SPOT to the correct one!!!\n",
    "SPOT = Plawniowice\n",
    "\n",
    "\n",
    "SPOT_NAME = SPOT[0]\n",
    "SPOT_COORDS = SPOT[1]\n",
    "SPOT_KEY = SPOT[2]\n",
    "data = [0] * 11\n",
    "for year in range(9):\n",
    "    data[year] = [0] * 12\n",
    "    for month in range(12):\n",
    "        PARAMS = {'q':SPOT_COORDS,\n",
    "              'format':'json', \n",
    "              'date': str(year + 2010) + '-' + str(month+1) +'-01',\n",
    "              'enddate':str(year + 2010) + '-' +  str((month+1)) +'-28',\n",
    "              'tp':'3'} \n",
    "        print(PARAMS)\n",
    "        data[year][month] = requests.get(url = URL, params = PARAMS).json()\n",
    "print(len(data))"
   ]
  },
  {
   "cell_type": "code",
   "execution_count": 117,
   "metadata": {},
   "outputs": [],
   "source": [
    "# for year in range(9):\n",
    "#     for month in range(12):\n",
    "#         print (len(data[year][month]['data']['weather']))"
   ]
  },
  {
   "cell_type": "code",
   "execution_count": 118,
   "metadata": {},
   "outputs": [],
   "source": [
    "windMonthAverage = [0] * 10\n",
    "tempMonthAverage = [0] * 10\n",
    "bft4DaysInMonth = [0] * 10\n",
    "bft5DaysInMonth = [0] * 10\n",
    "bft6DaysInMonth = [0] * 10\n",
    "bft7DaysInMonth = [0] * 10"
   ]
  },
  {
   "cell_type": "code",
   "execution_count": 119,
   "metadata": {},
   "outputs": [
    {
     "ename": "KeyError",
     "evalue": "'weather'",
     "output_type": "error",
     "traceback": [
      "\u001b[1;31m---------------------------------------------------------------------------\u001b[0m",
      "\u001b[1;31mKeyError\u001b[0m                                  Traceback (most recent call last)",
      "\u001b[1;32m<ipython-input-119-4e72b462e01f>\u001b[0m in \u001b[0;36m<module>\u001b[1;34m\u001b[0m\n\u001b[0;32m     11\u001b[0m             \u001b[1;32mfor\u001b[0m \u001b[0mhourNr\u001b[0m \u001b[1;32min\u001b[0m \u001b[0mrange\u001b[0m\u001b[1;33m(\u001b[0m\u001b[1;36m3\u001b[0m\u001b[1;33m)\u001b[0m\u001b[1;33m:\u001b[0m\u001b[1;33m\u001b[0m\u001b[1;33m\u001b[0m\u001b[0m\n\u001b[0;32m     12\u001b[0m                 \u001b[0mhourNr\u001b[0m \u001b[1;33m=\u001b[0m \u001b[0mhourNr\u001b[0m \u001b[1;33m+\u001b[0m \u001b[1;36m3\u001b[0m\u001b[1;33m\u001b[0m\u001b[1;33m\u001b[0m\u001b[0m\n\u001b[1;32m---> 13\u001b[1;33m                 \u001b[0mhour3WindPower\u001b[0m \u001b[1;33m=\u001b[0m \u001b[0mint\u001b[0m\u001b[1;33m(\u001b[0m\u001b[0mdata\u001b[0m\u001b[1;33m[\u001b[0m\u001b[0myear\u001b[0m\u001b[1;33m]\u001b[0m\u001b[1;33m[\u001b[0m\u001b[0mmonth\u001b[0m\u001b[1;33m]\u001b[0m\u001b[1;33m[\u001b[0m\u001b[1;34m'data'\u001b[0m\u001b[1;33m]\u001b[0m\u001b[1;33m[\u001b[0m\u001b[1;34m'weather'\u001b[0m\u001b[1;33m]\u001b[0m\u001b[1;33m[\u001b[0m\u001b[0mdayNr\u001b[0m\u001b[1;33m]\u001b[0m\u001b[1;33m[\u001b[0m\u001b[1;34m'hourly'\u001b[0m\u001b[1;33m]\u001b[0m\u001b[1;33m[\u001b[0m\u001b[0mhourNr\u001b[0m\u001b[1;33m]\u001b[0m\u001b[1;33m[\u001b[0m\u001b[1;34m'windspeedKmph'\u001b[0m\u001b[1;33m]\u001b[0m\u001b[1;33m)\u001b[0m\u001b[1;33m\u001b[0m\u001b[1;33m\u001b[0m\u001b[0m\n\u001b[0m\u001b[0;32m     14\u001b[0m                 \u001b[1;32mif\u001b[0m \u001b[0mhour3WindPower\u001b[0m \u001b[1;33m>=\u001b[0m \u001b[1;36m20\u001b[0m \u001b[1;32mand\u001b[0m \u001b[0mcheckBft\u001b[0m\u001b[1;33m[\u001b[0m\u001b[1;36m0\u001b[0m\u001b[1;33m]\u001b[0m\u001b[1;33m:\u001b[0m\u001b[1;33m\u001b[0m\u001b[1;33m\u001b[0m\u001b[0m\n\u001b[0;32m     15\u001b[0m                     \u001b[0mbft4DaysInMonth\u001b[0m\u001b[1;33m[\u001b[0m\u001b[0myear\u001b[0m\u001b[1;33m]\u001b[0m\u001b[1;33m[\u001b[0m\u001b[0mmonth\u001b[0m\u001b[1;33m]\u001b[0m\u001b[1;33m+=\u001b[0m\u001b[1;36m1\u001b[0m\u001b[1;33m\u001b[0m\u001b[1;33m\u001b[0m\u001b[0m\n",
      "\u001b[1;31mKeyError\u001b[0m: 'weather'"
     ]
    }
   ],
   "source": [
    "for year in range(9):\n",
    "    windMonthAverage[year] = [0] * 12\n",
    "    tempMonthAverage[year] = [0] * 12\n",
    "    bft4DaysInMonth[year] = [0] * 12\n",
    "    bft5DaysInMonth[year] = [0] * 12\n",
    "    bft6DaysInMonth[year] = [0] * 12\n",
    "    bft7DaysInMonth[year] = [0] * 12\n",
    "    for month in range(12):\n",
    "        for dayNr in range(28):\n",
    "            checkBft = [True, True, True, True]\n",
    "            for hourNr in range(3):\n",
    "                hourNr = hourNr + 3\n",
    "                hour3WindPower = int(data[year][month]['data']['weather'][dayNr]['hourly'][hourNr]['windspeedKmph'])\n",
    "                if hour3WindPower >= 20 and checkBft[0]:\n",
    "                    bft4DaysInMonth[year][month]+=1\n",
    "                    checkBft[0] = False\n",
    "                if hour3WindPower >= 29 and checkBft[1]:\n",
    "                    bft5DaysInMonth[year][month]+=1\n",
    "                    checkBft[1] = False\n",
    "                if hour3WindPower >= 39 and checkBft[2]:\n",
    "                    bft6DaysInMonth[year][month]+=1\n",
    "                    checkBft[2] = False\n",
    "                if hour3WindPower >= 50 and checkBft[3]:\n",
    "                    bft7DaysInMonth[year][month]+=1\n",
    "                    checkBft[3] = False\n",
    "                windMonthAverage[year][month] = float(windMonthAverage[year][month]) + (hour3WindPower/84)\n",
    "                tempMonthAverage[year][month] = float(tempMonthAverage[year][month]) + (int(data[year][month]['data']['weather'][dayNr]['hourly'][hourNr]['tempC'])/84)"
   ]
  },
  {
   "cell_type": "code",
   "execution_count": 120,
   "metadata": {},
   "outputs": [
    {
     "name": "stdout",
     "output_type": "stream",
     "text": [
      "[[0, 0, 0, 0, 0, 0, 0, 0, 0, 0, 0, 0], 0, 0, 0, 0, 0, 0, 0, 0, 0]\n",
      "0\n"
     ]
    }
   ],
   "source": [
    "print(windMonthAverage)\n",
    "print(windMonthAverage[0][4])"
   ]
  },
  {
   "cell_type": "code",
   "execution_count": null,
   "metadata": {},
   "outputs": [],
   "source": [
    "print(tempMonthAverage)"
   ]
  },
  {
   "cell_type": "code",
   "execution_count": null,
   "metadata": {},
   "outputs": [],
   "source": [
    "print(\"Min 4bft: \" + str(bft4DaysInMonth))\n",
    "print(\"Min 5bft: \" + str(bft5DaysInMonth))\n",
    "print(\"Min 6bft: \" + str(bft6DaysInMonth))\n",
    "print(\"Min 7bft: \" + str(bft7DaysInMonth))"
   ]
  },
  {
   "cell_type": "code",
   "execution_count": null,
   "metadata": {},
   "outputs": [],
   "source": [
    "wind10YearsMonthAverage = [0.0] * 12\n",
    "for month in range(12):\n",
    "    monthsum = 0.0\n",
    "    for year in range(9):\n",
    "        monthsum += windMonthAverage[year][month]\n",
    "    wind10YearsMonthAverage[month] = round(monthsum/10)\n",
    "print(wind10YearsMonthAverage)"
   ]
  },
  {
   "cell_type": "code",
   "execution_count": null,
   "metadata": {},
   "outputs": [],
   "source": [
    "temp10YearsMonthAverage = [0.0] * 12\n",
    "for month in range(12):\n",
    "    monthsum = 0.0\n",
    "    for year in range(9):\n",
    "        monthsum += tempMonthAverage[year][month]\n",
    "    temp10YearsMonthAverage[month] = round(monthsum/10)\n",
    "print(temp10YearsMonthAverage)"
   ]
  },
  {
   "cell_type": "code",
   "execution_count": null,
   "metadata": {},
   "outputs": [],
   "source": [
    "bft4_10YearsMonthAverage = [0.0] * 12\n",
    "for month in range(12):\n",
    "    monthsum = 0.0\n",
    "    for year in range(9):\n",
    "        monthsum += bft4DaysInMonth[year][month]\n",
    "    bft4_10YearsMonthAverage[month] = round(monthsum/10)\n",
    "print(bft4_10YearsMonthAverage)"
   ]
  },
  {
   "cell_type": "code",
   "execution_count": null,
   "metadata": {},
   "outputs": [],
   "source": [
    "bft5_10YearsMonthAverage = [0.0] * 12\n",
    "for month in range(12):\n",
    "    monthsum = 0.0\n",
    "    for year in range(9):\n",
    "        monthsum += bft5DaysInMonth[year][month]\n",
    "    bft5_10YearsMonthAverage[month] = round(monthsum/10)\n",
    "print(bft5_10YearsMonthAverage)"
   ]
  },
  {
   "cell_type": "code",
   "execution_count": null,
   "metadata": {},
   "outputs": [],
   "source": [
    "bft6_10YearsMonthAverage = [0.0] * 12\n",
    "for month in range(12):\n",
    "    monthsum = 0.0\n",
    "    for year in range(9):\n",
    "        monthsum += bft6DaysInMonth[year][month]\n",
    "    bft6_10YearsMonthAverage[month] = round(monthsum/10)\n",
    "print(bft6_10YearsMonthAverage)"
   ]
  },
  {
   "cell_type": "code",
   "execution_count": null,
   "metadata": {},
   "outputs": [],
   "source": [
    "bft7_10YearsMonthAverage = [0.0] * 12\n",
    "for month in range(12):\n",
    "    monthsum = 0.0\n",
    "    for year in range(9):\n",
    "        monthsum += bft7DaysInMonth[year][month]\n",
    "    bft7_10YearsMonthAverage[month] = round(monthsum/10)\n",
    "print(bft7_10YearsMonthAverage)"
   ]
  },
  {
   "cell_type": "code",
   "execution_count": null,
   "metadata": {},
   "outputs": [],
   "source": [
    "file = open(SPOT_NAME + \".txt\", \"w\") \n",
    "file.write('<WIND_AVERAGE>' + ' = ' + str(wind10YearsMonthAverage) +'\\n') \n",
    "file.write('<TEMP_AVERAGE>' + ' = ' + str(temp10YearsMonthAverage) +'\\n') \n",
    "file.write('<DAYS_4BFT>' + ' = ' + str(bft4_10YearsMonthAverage) +'\\n') \n",
    "file.write('<DAYS_5BFT>' + ' = ' + str(bft5_10YearsMonthAverage) +'\\n') \n",
    "file.write('<DAYS_6BFT>' + ' = ' + str(bft6_10YearsMonthAverage) +'\\n') \n",
    "file.write('<DAYS_7BFT>' + ' = ' + str(bft7_10YearsMonthAverage) +'\\n') \n",
    "file.close() "
   ]
  },
  {
   "cell_type": "code",
   "execution_count": null,
   "metadata": {},
   "outputs": [],
   "source": [
    "def implicit():\n",
    "    from google.cloud import storage\n",
    "\n",
    "    # If you don't specify credentials when constructing the client, the\n",
    "    # client library will look for credentials in the environment.\n",
    "    storage_client = storage.Client()\n",
    "\n",
    "    # Make an authenticated API request\n",
    "    buckets = list(storage_client.list_buckets())\n",
    "    print(buckets)"
   ]
  },
  {
   "cell_type": "code",
   "execution_count": null,
   "metadata": {},
   "outputs": [],
   "source": [
    "from google.oauth2 import service_account\n",
    "\n",
    "credentials = service_account.Credentials.from_service_account_file(\n",
    "    r'C:\\Users\\Jgasi\\OneDrive\\Pulpit\\SurfAdvisor_2_0\\prognowind-firebase-adminsdk-c9djf-5d8fe1b741.json')\n",
    "print(credentials)"
   ]
  },
  {
   "cell_type": "code",
   "execution_count": null,
   "metadata": {},
   "outputs": [],
   "source": [
    "import firebase_admin\n",
    "from firebase_admin import credentials\n",
    "from firebase_admin import firestore\n",
    "\n",
    "# PROJECT_ID = '586042170144:android:1dbc7120143b2b4a235545'\n",
    "\n",
    "# cred = credentials.Certificate(r'C:\\Users\\Jgasi\\OneDrive\\Pulpit\\SurfAdvisor_2_0\\prognowind-firebase-adminsdk-c9djf-5d8fe1b741.json')\n",
    "# firebase_admin.initialize_app(cred)\n"
   ]
  },
  {
   "cell_type": "code",
   "execution_count": null,
   "metadata": {},
   "outputs": [],
   "source": [
    "db = firestore.client()\n",
    "# users_ref = db.collection(u'spots')\n",
    "# docs = users_ref.stream()\n",
    "\n",
    "# for doc in docs:\n",
    "#     print(u'{} => {}'.format(doc.id, doc.to_dict()))"
   ]
  },
  {
   "cell_type": "code",
   "execution_count": null,
   "metadata": {},
   "outputs": [],
   "source": [
    "doc_ref = db.collection(u'spots').document(u''+SPOT_KEY)\n",
    "\n",
    "# Set the capital field\n",
    "doc_ref.update({u'WIND_AVERAGE' : wind10YearsMonthAverage})\n",
    "doc_ref.update({u'TEMP_AVERAGE' : temp10YearsMonthAverage}) \n",
    "doc_ref.update({u'DAYS_4BFT' : bft4_10YearsMonthAverage}) \n",
    "doc_ref.update({u'DAYS_5BFT' : bft5_10YearsMonthAverage}) \n",
    "doc_ref.update({u'DAYS_6BFT' : bft6_10YearsMonthAverage}) \n",
    "doc_ref.update({u'DAYS_7BFT' : bft7_10YearsMonthAverage}) "
   ]
  },
  {
   "cell_type": "code",
   "execution_count": null,
   "metadata": {},
   "outputs": [],
   "source": []
  }
 ],
 "metadata": {
  "kernelspec": {
   "display_name": "Python 3",
   "language": "python",
   "name": "python3"
  },
  "language_info": {
   "codemirror_mode": {
    "name": "ipython",
    "version": 3
   },
   "file_extension": ".py",
   "mimetype": "text/x-python",
   "name": "python",
   "nbconvert_exporter": "python",
   "pygments_lexer": "ipython3",
   "version": "3.7.4"
  }
 },
 "nbformat": 4,
 "nbformat_minor": 2
}
