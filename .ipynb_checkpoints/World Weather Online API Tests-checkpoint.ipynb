{
 "cells": [
  {
   "cell_type": "code",
   "execution_count": 1,
   "metadata": {},
   "outputs": [
    {
     "name": "stdout",
     "output_type": "stream",
     "text": [
      "{'q': '54.697505,18.664313', 'format': 'json', 'date': '2010-1-01', 'enddate': '2010-1-28', 'tp': '3'}\n",
      "{'q': '54.697505,18.664313', 'format': 'json', 'date': '2010-2-01', 'enddate': '2010-2-28', 'tp': '3'}\n",
      "{'q': '54.697505,18.664313', 'format': 'json', 'date': '2010-3-01', 'enddate': '2010-3-28', 'tp': '3'}\n",
      "{'q': '54.697505,18.664313', 'format': 'json', 'date': '2010-4-01', 'enddate': '2010-4-28', 'tp': '3'}\n",
      "{'q': '54.697505,18.664313', 'format': 'json', 'date': '2010-5-01', 'enddate': '2010-5-28', 'tp': '3'}\n",
      "{'q': '54.697505,18.664313', 'format': 'json', 'date': '2010-6-01', 'enddate': '2010-6-28', 'tp': '3'}\n",
      "{'q': '54.697505,18.664313', 'format': 'json', 'date': '2010-7-01', 'enddate': '2010-7-28', 'tp': '3'}\n",
      "{'q': '54.697505,18.664313', 'format': 'json', 'date': '2010-8-01', 'enddate': '2010-8-28', 'tp': '3'}\n",
      "{'q': '54.697505,18.664313', 'format': 'json', 'date': '2010-9-01', 'enddate': '2010-9-28', 'tp': '3'}\n",
      "{'q': '54.697505,18.664313', 'format': 'json', 'date': '2010-10-01', 'enddate': '2010-10-28', 'tp': '3'}\n",
      "{'q': '54.697505,18.664313', 'format': 'json', 'date': '2010-11-01', 'enddate': '2010-11-28', 'tp': '3'}\n",
      "{'q': '54.697505,18.664313', 'format': 'json', 'date': '2010-12-01', 'enddate': '2010-12-28', 'tp': '3'}\n",
      "{'q': '54.697505,18.664313', 'format': 'json', 'date': '2011-1-01', 'enddate': '2011-1-28', 'tp': '3'}\n",
      "{'q': '54.697505,18.664313', 'format': 'json', 'date': '2011-2-01', 'enddate': '2011-2-28', 'tp': '3'}\n",
      "{'q': '54.697505,18.664313', 'format': 'json', 'date': '2011-3-01', 'enddate': '2011-3-28', 'tp': '3'}\n",
      "{'q': '54.697505,18.664313', 'format': 'json', 'date': '2011-4-01', 'enddate': '2011-4-28', 'tp': '3'}\n",
      "{'q': '54.697505,18.664313', 'format': 'json', 'date': '2011-5-01', 'enddate': '2011-5-28', 'tp': '3'}\n",
      "{'q': '54.697505,18.664313', 'format': 'json', 'date': '2011-6-01', 'enddate': '2011-6-28', 'tp': '3'}\n",
      "{'q': '54.697505,18.664313', 'format': 'json', 'date': '2011-7-01', 'enddate': '2011-7-28', 'tp': '3'}\n",
      "{'q': '54.697505,18.664313', 'format': 'json', 'date': '2011-8-01', 'enddate': '2011-8-28', 'tp': '3'}\n",
      "{'q': '54.697505,18.664313', 'format': 'json', 'date': '2011-9-01', 'enddate': '2011-9-28', 'tp': '3'}\n",
      "{'q': '54.697505,18.664313', 'format': 'json', 'date': '2011-10-01', 'enddate': '2011-10-28', 'tp': '3'}\n",
      "{'q': '54.697505,18.664313', 'format': 'json', 'date': '2011-11-01', 'enddate': '2011-11-28', 'tp': '3'}\n",
      "{'q': '54.697505,18.664313', 'format': 'json', 'date': '2011-12-01', 'enddate': '2011-12-28', 'tp': '3'}\n",
      "{'q': '54.697505,18.664313', 'format': 'json', 'date': '2012-1-01', 'enddate': '2012-1-28', 'tp': '3'}\n",
      "{'q': '54.697505,18.664313', 'format': 'json', 'date': '2012-2-01', 'enddate': '2012-2-28', 'tp': '3'}\n",
      "{'q': '54.697505,18.664313', 'format': 'json', 'date': '2012-3-01', 'enddate': '2012-3-28', 'tp': '3'}\n",
      "{'q': '54.697505,18.664313', 'format': 'json', 'date': '2012-4-01', 'enddate': '2012-4-28', 'tp': '3'}\n",
      "{'q': '54.697505,18.664313', 'format': 'json', 'date': '2012-5-01', 'enddate': '2012-5-28', 'tp': '3'}\n",
      "{'q': '54.697505,18.664313', 'format': 'json', 'date': '2012-6-01', 'enddate': '2012-6-28', 'tp': '3'}\n",
      "{'q': '54.697505,18.664313', 'format': 'json', 'date': '2012-7-01', 'enddate': '2012-7-28', 'tp': '3'}\n",
      "{'q': '54.697505,18.664313', 'format': 'json', 'date': '2012-8-01', 'enddate': '2012-8-28', 'tp': '3'}\n",
      "{'q': '54.697505,18.664313', 'format': 'json', 'date': '2012-9-01', 'enddate': '2012-9-28', 'tp': '3'}\n",
      "{'q': '54.697505,18.664313', 'format': 'json', 'date': '2012-10-01', 'enddate': '2012-10-28', 'tp': '3'}\n",
      "{'q': '54.697505,18.664313', 'format': 'json', 'date': '2012-11-01', 'enddate': '2012-11-28', 'tp': '3'}\n",
      "{'q': '54.697505,18.664313', 'format': 'json', 'date': '2012-12-01', 'enddate': '2012-12-28', 'tp': '3'}\n",
      "{'q': '54.697505,18.664313', 'format': 'json', 'date': '2013-1-01', 'enddate': '2013-1-28', 'tp': '3'}\n",
      "{'q': '54.697505,18.664313', 'format': 'json', 'date': '2013-2-01', 'enddate': '2013-2-28', 'tp': '3'}\n",
      "{'q': '54.697505,18.664313', 'format': 'json', 'date': '2013-3-01', 'enddate': '2013-3-28', 'tp': '3'}\n",
      "{'q': '54.697505,18.664313', 'format': 'json', 'date': '2013-4-01', 'enddate': '2013-4-28', 'tp': '3'}\n",
      "{'q': '54.697505,18.664313', 'format': 'json', 'date': '2013-5-01', 'enddate': '2013-5-28', 'tp': '3'}\n",
      "{'q': '54.697505,18.664313', 'format': 'json', 'date': '2013-6-01', 'enddate': '2013-6-28', 'tp': '3'}\n",
      "{'q': '54.697505,18.664313', 'format': 'json', 'date': '2013-7-01', 'enddate': '2013-7-28', 'tp': '3'}\n",
      "{'q': '54.697505,18.664313', 'format': 'json', 'date': '2013-8-01', 'enddate': '2013-8-28', 'tp': '3'}\n",
      "{'q': '54.697505,18.664313', 'format': 'json', 'date': '2013-9-01', 'enddate': '2013-9-28', 'tp': '3'}\n",
      "{'q': '54.697505,18.664313', 'format': 'json', 'date': '2013-10-01', 'enddate': '2013-10-28', 'tp': '3'}\n",
      "{'q': '54.697505,18.664313', 'format': 'json', 'date': '2013-11-01', 'enddate': '2013-11-28', 'tp': '3'}\n",
      "{'q': '54.697505,18.664313', 'format': 'json', 'date': '2013-12-01', 'enddate': '2013-12-28', 'tp': '3'}\n",
      "{'q': '54.697505,18.664313', 'format': 'json', 'date': '2014-1-01', 'enddate': '2014-1-28', 'tp': '3'}\n",
      "{'q': '54.697505,18.664313', 'format': 'json', 'date': '2014-2-01', 'enddate': '2014-2-28', 'tp': '3'}\n",
      "{'q': '54.697505,18.664313', 'format': 'json', 'date': '2014-3-01', 'enddate': '2014-3-28', 'tp': '3'}\n",
      "{'q': '54.697505,18.664313', 'format': 'json', 'date': '2014-4-01', 'enddate': '2014-4-28', 'tp': '3'}\n",
      "{'q': '54.697505,18.664313', 'format': 'json', 'date': '2014-5-01', 'enddate': '2014-5-28', 'tp': '3'}\n",
      "{'q': '54.697505,18.664313', 'format': 'json', 'date': '2014-6-01', 'enddate': '2014-6-28', 'tp': '3'}\n",
      "{'q': '54.697505,18.664313', 'format': 'json', 'date': '2014-7-01', 'enddate': '2014-7-28', 'tp': '3'}\n",
      "{'q': '54.697505,18.664313', 'format': 'json', 'date': '2014-8-01', 'enddate': '2014-8-28', 'tp': '3'}\n",
      "{'q': '54.697505,18.664313', 'format': 'json', 'date': '2014-9-01', 'enddate': '2014-9-28', 'tp': '3'}\n",
      "{'q': '54.697505,18.664313', 'format': 'json', 'date': '2014-10-01', 'enddate': '2014-10-28', 'tp': '3'}\n",
      "{'q': '54.697505,18.664313', 'format': 'json', 'date': '2014-11-01', 'enddate': '2014-11-28', 'tp': '3'}\n",
      "{'q': '54.697505,18.664313', 'format': 'json', 'date': '2014-12-01', 'enddate': '2014-12-28', 'tp': '3'}\n",
      "{'q': '54.697505,18.664313', 'format': 'json', 'date': '2015-1-01', 'enddate': '2015-1-28', 'tp': '3'}\n",
      "{'q': '54.697505,18.664313', 'format': 'json', 'date': '2015-2-01', 'enddate': '2015-2-28', 'tp': '3'}\n",
      "{'q': '54.697505,18.664313', 'format': 'json', 'date': '2015-3-01', 'enddate': '2015-3-28', 'tp': '3'}\n",
      "{'q': '54.697505,18.664313', 'format': 'json', 'date': '2015-4-01', 'enddate': '2015-4-28', 'tp': '3'}\n",
      "{'q': '54.697505,18.664313', 'format': 'json', 'date': '2015-5-01', 'enddate': '2015-5-28', 'tp': '3'}\n",
      "{'q': '54.697505,18.664313', 'format': 'json', 'date': '2015-6-01', 'enddate': '2015-6-28', 'tp': '3'}\n",
      "{'q': '54.697505,18.664313', 'format': 'json', 'date': '2015-7-01', 'enddate': '2015-7-28', 'tp': '3'}\n",
      "{'q': '54.697505,18.664313', 'format': 'json', 'date': '2015-8-01', 'enddate': '2015-8-28', 'tp': '3'}\n",
      "{'q': '54.697505,18.664313', 'format': 'json', 'date': '2015-9-01', 'enddate': '2015-9-28', 'tp': '3'}\n",
      "{'q': '54.697505,18.664313', 'format': 'json', 'date': '2015-10-01', 'enddate': '2015-10-28', 'tp': '3'}\n",
      "{'q': '54.697505,18.664313', 'format': 'json', 'date': '2015-11-01', 'enddate': '2015-11-28', 'tp': '3'}\n",
      "{'q': '54.697505,18.664313', 'format': 'json', 'date': '2015-12-01', 'enddate': '2015-12-28', 'tp': '3'}\n",
      "{'q': '54.697505,18.664313', 'format': 'json', 'date': '2016-1-01', 'enddate': '2016-1-28', 'tp': '3'}\n",
      "{'q': '54.697505,18.664313', 'format': 'json', 'date': '2016-2-01', 'enddate': '2016-2-28', 'tp': '3'}\n",
      "{'q': '54.697505,18.664313', 'format': 'json', 'date': '2016-3-01', 'enddate': '2016-3-28', 'tp': '3'}\n",
      "{'q': '54.697505,18.664313', 'format': 'json', 'date': '2016-4-01', 'enddate': '2016-4-28', 'tp': '3'}\n",
      "{'q': '54.697505,18.664313', 'format': 'json', 'date': '2016-5-01', 'enddate': '2016-5-28', 'tp': '3'}\n",
      "{'q': '54.697505,18.664313', 'format': 'json', 'date': '2016-6-01', 'enddate': '2016-6-28', 'tp': '3'}\n",
      "{'q': '54.697505,18.664313', 'format': 'json', 'date': '2016-7-01', 'enddate': '2016-7-28', 'tp': '3'}\n",
      "{'q': '54.697505,18.664313', 'format': 'json', 'date': '2016-8-01', 'enddate': '2016-8-28', 'tp': '3'}\n"
     ]
    },
    {
     "name": "stdout",
     "output_type": "stream",
     "text": [
      "{'q': '54.697505,18.664313', 'format': 'json', 'date': '2016-9-01', 'enddate': '2016-9-28', 'tp': '3'}\n",
      "{'q': '54.697505,18.664313', 'format': 'json', 'date': '2016-10-01', 'enddate': '2016-10-28', 'tp': '3'}\n",
      "{'q': '54.697505,18.664313', 'format': 'json', 'date': '2016-11-01', 'enddate': '2016-11-28', 'tp': '3'}\n",
      "{'q': '54.697505,18.664313', 'format': 'json', 'date': '2016-12-01', 'enddate': '2016-12-28', 'tp': '3'}\n",
      "{'q': '54.697505,18.664313', 'format': 'json', 'date': '2017-1-01', 'enddate': '2017-1-28', 'tp': '3'}\n",
      "{'q': '54.697505,18.664313', 'format': 'json', 'date': '2017-2-01', 'enddate': '2017-2-28', 'tp': '3'}\n",
      "{'q': '54.697505,18.664313', 'format': 'json', 'date': '2017-3-01', 'enddate': '2017-3-28', 'tp': '3'}\n",
      "{'q': '54.697505,18.664313', 'format': 'json', 'date': '2017-4-01', 'enddate': '2017-4-28', 'tp': '3'}\n",
      "{'q': '54.697505,18.664313', 'format': 'json', 'date': '2017-5-01', 'enddate': '2017-5-28', 'tp': '3'}\n",
      "{'q': '54.697505,18.664313', 'format': 'json', 'date': '2017-6-01', 'enddate': '2017-6-28', 'tp': '3'}\n",
      "{'q': '54.697505,18.664313', 'format': 'json', 'date': '2017-7-01', 'enddate': '2017-7-28', 'tp': '3'}\n",
      "{'q': '54.697505,18.664313', 'format': 'json', 'date': '2017-8-01', 'enddate': '2017-8-28', 'tp': '3'}\n",
      "{'q': '54.697505,18.664313', 'format': 'json', 'date': '2017-9-01', 'enddate': '2017-9-28', 'tp': '3'}\n",
      "{'q': '54.697505,18.664313', 'format': 'json', 'date': '2017-10-01', 'enddate': '2017-10-28', 'tp': '3'}\n",
      "{'q': '54.697505,18.664313', 'format': 'json', 'date': '2017-11-01', 'enddate': '2017-11-28', 'tp': '3'}\n",
      "{'q': '54.697505,18.664313', 'format': 'json', 'date': '2017-12-01', 'enddate': '2017-12-28', 'tp': '3'}\n",
      "{'q': '54.697505,18.664313', 'format': 'json', 'date': '2018-1-01', 'enddate': '2018-1-28', 'tp': '3'}\n",
      "{'q': '54.697505,18.664313', 'format': 'json', 'date': '2018-2-01', 'enddate': '2018-2-28', 'tp': '3'}\n",
      "{'q': '54.697505,18.664313', 'format': 'json', 'date': '2018-3-01', 'enddate': '2018-3-28', 'tp': '3'}\n",
      "{'q': '54.697505,18.664313', 'format': 'json', 'date': '2018-4-01', 'enddate': '2018-4-28', 'tp': '3'}\n",
      "{'q': '54.697505,18.664313', 'format': 'json', 'date': '2018-5-01', 'enddate': '2018-5-28', 'tp': '3'}\n",
      "{'q': '54.697505,18.664313', 'format': 'json', 'date': '2018-6-01', 'enddate': '2018-6-28', 'tp': '3'}\n",
      "{'q': '54.697505,18.664313', 'format': 'json', 'date': '2018-7-01', 'enddate': '2018-7-28', 'tp': '3'}\n",
      "{'q': '54.697505,18.664313', 'format': 'json', 'date': '2018-8-01', 'enddate': '2018-8-28', 'tp': '3'}\n",
      "{'q': '54.697505,18.664313', 'format': 'json', 'date': '2018-9-01', 'enddate': '2018-9-28', 'tp': '3'}\n",
      "{'q': '54.697505,18.664313', 'format': 'json', 'date': '2018-10-01', 'enddate': '2018-10-28', 'tp': '3'}\n",
      "{'q': '54.697505,18.664313', 'format': 'json', 'date': '2018-11-01', 'enddate': '2018-11-28', 'tp': '3'}\n",
      "{'q': '54.697505,18.664313', 'format': 'json', 'date': '2018-12-01', 'enddate': '2018-12-28', 'tp': '3'}\n",
      "11\n"
     ]
    }
   ],
   "source": [
    "# importing the requests library \n",
    "import requests \n",
    "  \n",
    "# api-endpoint \n",
    "URL = \"http://api.worldweatheronline.com/premium/v1/past-weather.ashx?key=e1dc11cca6c94a879a3202728201201\"\n",
    "\n",
    "#Configs\n",
    "\n",
    "#Locations\n",
    "KuznicaCoords = ['Kuźnica','54.730855,18.579081']\n",
    "Jastarnia = ['Jastarnia', '54.697505,18.664313']\n",
    "PrassonisiCoords = ['Prassonisi','35.886536,27.769626']\n",
    "KarpathosCoords = ['Karpathos','35.439201,27.156805']\n",
    "PlawniowiceCoords = ['Pławniowice','50.390652,18.488286']\n",
    "ElMedanoCoords = ['El Medano','28.039735,-16.542246']\n",
    "DahabCoords = ['Dahab','28.507150,34.520115']\n",
    "\n",
    "SPOT = Jastarnia\n",
    "SPOT_NAME = SPOT[0]\n",
    "\n",
    "data = [0] * 11\n",
    "for year in range(9):\n",
    "    data[year] = [0] * 12\n",
    "    for month in range(12):\n",
    "        PARAMS = {'q':SPOT[1],\n",
    "              'format':'json', \n",
    "              'date': str(year + 2010) + '-' + str(month+1) +'-01',\n",
    "              'enddate':str(year + 2010) + '-' +  str((month+1)) +'-28',\n",
    "              'tp':'3'} \n",
    "        print(PARAMS)\n",
    "        data[year][month] = requests.get(url = URL, params = PARAMS).json()\n",
    "print(len(data))"
   ]
  },
  {
   "cell_type": "code",
   "execution_count": 2,
   "metadata": {},
   "outputs": [],
   "source": [
    "# for year in range(9):\n",
    "#     for month in range(12):\n",
    "#         print (len(data[year][month]['data']['weather']))"
   ]
  },
  {
   "cell_type": "code",
   "execution_count": 3,
   "metadata": {},
   "outputs": [],
   "source": [
    "windMonthAverage = [0] * 10\n",
    "tempMonthAverage = [0] * 10\n",
    "bft4DaysInMonth = [0] * 10\n",
    "bft5DaysInMonth = [0] * 10\n",
    "bft6DaysInMonth = [0] * 10\n",
    "bft7DaysInMonth = [0] * 10"
   ]
  },
  {
   "cell_type": "code",
   "execution_count": 4,
   "metadata": {},
   "outputs": [],
   "source": [
    "for year in range(9):\n",
    "    windMonthAverage[year] = [0] * 12\n",
    "    tempMonthAverage[year] = [0] * 12\n",
    "    bft4DaysInMonth[year] = [0] * 12\n",
    "    bft5DaysInMonth[year] = [0] * 12\n",
    "    bft6DaysInMonth[year] = [0] * 12\n",
    "    bft7DaysInMonth[year] = [0] * 12\n",
    "    for month in range(12):\n",
    "        for dayNr in range(28):\n",
    "            checkBft = [True, True, True, True]\n",
    "            for hourNr in range(3):\n",
    "                hourNr = hourNr + 3\n",
    "                hour3WindPower = int(data[year][month]['data']['weather'][dayNr]['hourly'][hourNr]['windspeedKmph'])\n",
    "                if hour3WindPower >= 20 and checkBft[0]:\n",
    "                    bft4DaysInMonth[year][month]+=1\n",
    "                    checkBft[0] = False\n",
    "                if hour3WindPower >= 29 and checkBft[1]:\n",
    "                    bft5DaysInMonth[year][month]+=1\n",
    "                    checkBft[1] = False\n",
    "                if hour3WindPower >= 39 and checkBft[2]:\n",
    "                    bft6DaysInMonth[year][month]+=1\n",
    "                    checkBft[2] = False\n",
    "                if hour3WindPower >= 50 and checkBft[3]:\n",
    "                    bft7DaysInMonth[year][month]+=1\n",
    "                    checkBft[3] = False\n",
    "                windMonthAverage[year][month] = float(windMonthAverage[year][month]) + (hour3WindPower/84)\n",
    "                tempMonthAverage[year][month] = float(tempMonthAverage[year][month]) + (int(data[year][month]['data']['weather'][dayNr]['hourly'][hourNr]['tempC'])/84)"
   ]
  },
  {
   "cell_type": "code",
   "execution_count": 5,
   "metadata": {},
   "outputs": [
    {
     "name": "stdout",
     "output_type": "stream",
     "text": [
      "[[20.72619047619047, 17.309523809523807, 19.261904761904766, 17.178571428571423, 16.714285714285715, 14.749999999999996, 15.011904761904766, 16.047619047619047, 22.92857142857142, 22.928571428571423, 20.214285714285722, 24.595238095238084], [22.13095238095239, 23.14285714285714, 19.03571428571429, 19.321428571428577, 16.04761904761905, 18.190476190476193, 16.559523809523814, 18.083333333333336, 19.809523809523807, 22.88095238095239, 18.071428571428577, 28.78571428571428], [24.571428571428584, 22.666666666666664, 20.988095238095248, 17.964285714285715, 17.761904761904763, 15.98809523809524, 15.499999999999998, 17.214285714285715, 20.595238095238088, 20.666666666666657, 22.22619047619048, 22.345238095238095], [21.119047619047617, 19.02380952380952, 22.28571428571428, 18.869047619047617, 15.428571428571425, 14.845238095238093, 18.440476190476183, 17.119047619047617, 19.535714285714285, 18.833333333333336, 23.34523809523809, 27.749999999999996], [25.261904761904756, 20.86904761904762, 19.297619047619047, 16.77380952380952, 19.1547619047619, 17.07142857142857, 17.28571428571429, 18.607142857142858, 18.0, 18.15476190476191, 19.119047619047613, 25.46428571428572], [26.63095238095238, 21.428571428571427, 18.5595238095238, 20.714285714285715, 15.928571428571432, 15.738095238095237, 20.000000000000004, 18.035714285714292, 18.273809523809522, 19.71428571428571, 24.3452380952381, 25.892857142857146], [21.82142857142856, 23.03571428571429, 18.702380952380956, 16.916666666666654, 17.166666666666668, 15.75, 18.19047619047619, 17.202380952380956, 14.726190476190473, 25.333333333333346, 24.488095238095234, 27.071428571428566], [23.226190476190478, 23.35714285714286, 16.857142857142858, 18.14285714285715, 18.345238095238084, 18.285714285714285, 18.41666666666667, 15.89285714285714, 20.892857142857146, 27.916666666666668, 26.119047619047617, 28.03571428571429], [24.071428571428573, 16.809523809523807, 18.952380952380953, 18.690476190476197, 15.892857142857148, 15.821428571428568, 18.749999999999993, 16.916666666666657, 20.059523809523807, 24.03571428571428, 18.035714285714278, 24.96428571428572], 0]\n",
      "16.714285714285715\n"
     ]
    }
   ],
   "source": [
    "print(windMonthAverage)\n",
    "print(windMonthAverage[0][4])"
   ]
  },
  {
   "cell_type": "code",
   "execution_count": 6,
   "metadata": {},
   "outputs": [
    {
     "name": "stdout",
     "output_type": "stream",
     "text": [
      "[[-4.1190476190476195, -1.0833333333333333, 2.7738095238095233, 6.619047619047613, 10.142857142857144, 15.214285714285714, 21.833333333333336, 20.523809523809533, 15.416666666666659, 9.154761904761891, 6.261904761904756, -3.261904761904762], [0.7023809523809519, -2.0833333333333335, 2.690476190476188, 7.345238095238092, 11.083333333333334, 16.571428571428562, 18.488095238095234, 19.416666666666657, 16.726190476190467, 11.595238095238098, 7.011904761904751, 4.261904761904757], [2.249999999999996, -2.464285714285718, 4.3809523809523805, 6.8571428571428585, 12.130952380952376, 14.642857142857135, 18.559523809523807, 19.476190476190464, 16.583333333333325, 11.666666666666663, 7.035714285714276, 0.2261904761904762], [-1.4166666666666665, 0.8452380952380949, -0.3928571428571427, 5.833333333333331, 12.357142857142854, 16.666666666666664, 19.10714285714284, 19.89285714285714, 15.678571428571423, 12.309523809523808, 7.5714285714285605, 4.380952380952379], [-0.10714285714285705, 3.7142857142857126, 5.821428571428567, 8.797619047619056, 12.309523809523805, 15.380952380952374, 20.666666666666657, 20.142857142857135, 17.059523809523796, 12.666666666666673, 7.666666666666656, 2.976190476190478], [2.8690476190476164, 2.9047619047619033, 4.738095238095235, 7.940476190476192, 11.726190476190476, 15.464285714285715, 19.142857142857135, 21.261904761904756, 16.39285714285714, 10.714285714285705, 7.940476190476179, 5.952380952380947], [0.023809523809523864, 3.988095238095231, 4.797619047619045, 8.440476190476181, 13.726190476190466, 18.273809523809515, 19.535714285714267, 19.14285714285713, 17.76190476190475, 10.154761904761893, 6.154761904761898, 4.690476190476186], [1.0595238095238093, 1.6309523809523807, 5.380952380952378, 7.095238095238086, 12.154761904761903, 16.357142857142847, 17.773809523809515, 19.58333333333331, 15.976190476190474, 12.440476190476192, 7.154761904761896, 4.607142857142852], [2.3571428571428568, -0.7500000000000001, 0.8452380952380952, 9.595238095238098, 14.773809523809524, 18.48809523809523, 20.66666666666668, 22.07142857142856, 17.940476190476183, 13.440476190476188, 7.678571428571418, 3.738095238095234], 0]\n"
     ]
    }
   ],
   "source": [
    "print(tempMonthAverage)"
   ]
  },
  {
   "cell_type": "code",
   "execution_count": 7,
   "metadata": {},
   "outputs": [
    {
     "name": "stdout",
     "output_type": "stream",
     "text": [
      "Min 4bft: [[18, 15, 18, 13, 15, 14, 10, 14, 21, 19, 20, 22], [21, 20, 16, 15, 12, 16, 16, 15, 19, 20, 13, 24], [23, 21, 17, 15, 14, 11, 9, 13, 18, 17, 22, 19], [21, 14, 18, 17, 14, 7, 17, 14, 14, 17, 21, 24], [24, 21, 15, 18, 17, 16, 14, 15, 12, 16, 15, 24], [21, 16, 16, 18, 11, 12, 16, 15, 16, 17, 21, 23], [21, 23, 17, 14, 13, 11, 13, 14, 9, 25, 21, 22], [21, 19, 15, 14, 17, 15, 16, 14, 18, 25, 24, 24], [25, 13, 17, 17, 10, 11, 20, 11, 14, 18, 13, 22], 0]\n",
      "Min 5bft: [[5, 4, 8, 3, 4, 0, 3, 4, 13, 12, 7, 16], [5, 10, 7, 7, 2, 3, 1, 4, 6, 12, 5, 20], [12, 10, 10, 6, 4, 5, 3, 5, 7, 9, 9, 11], [7, 5, 11, 3, 1, 1, 5, 2, 6, 5, 11, 17], [12, 5, 4, 0, 5, 2, 4, 6, 3, 6, 6, 13], [15, 10, 4, 7, 3, 0, 7, 3, 4, 8, 13, 14], [11, 12, 3, 3, 2, 1, 4, 2, 1, 11, 13, 17], [9, 12, 4, 6, 2, 6, 7, 0, 6, 15, 14, 19], [12, 5, 3, 4, 1, 3, 2, 3, 9, 8, 5, 15], 0]\n",
      "Min 6bft: [[3, 0, 1, 0, 0, 0, 0, 1, 1, 4, 1, 3], [2, 4, 1, 2, 0, 0, 0, 3, 2, 1, 2, 8], [4, 5, 2, 1, 0, 2, 0, 1, 1, 1, 1, 1], [0, 1, 2, 0, 0, 0, 0, 1, 2, 1, 3, 5], [4, 0, 2, 0, 2, 0, 0, 0, 1, 0, 1, 4], [9, 2, 1, 0, 0, 0, 2, 0, 0, 1, 6, 5], [1, 2, 0, 0, 0, 0, 1, 0, 0, 4, 4, 7], [4, 4, 0, 2, 0, 0, 0, 0, 3, 9, 4, 5], [4, 0, 2, 1, 0, 1, 2, 0, 3, 5, 0, 3], 0]\n",
      "Min 7bft: [[0, 0, 0, 0, 0, 0, 0, 0, 0, 2, 0, 0], [0, 1, 0, 0, 0, 0, 0, 0, 0, 0, 1, 0], [1, 1, 0, 0, 0, 0, 0, 0, 0, 0, 0, 0], [0, 0, 0, 0, 0, 0, 0, 0, 0, 0, 0, 2], [0, 0, 2, 0, 0, 0, 0, 0, 0, 0, 0, 0], [2, 0, 0, 0, 0, 0, 0, 0, 0, 0, 2, 1], [0, 1, 0, 0, 0, 0, 0, 0, 0, 1, 1, 1], [2, 0, 0, 0, 0, 0, 0, 0, 0, 1, 0, 0], [1, 0, 0, 0, 0, 0, 0, 0, 0, 2, 0, 0], 0]\n"
     ]
    }
   ],
   "source": [
    "print(\"Min 4bft: \" + str(bft4DaysInMonth))\n",
    "print(\"Min 5bft: \" + str(bft5DaysInMonth))\n",
    "print(\"Min 6bft: \" + str(bft6DaysInMonth))\n",
    "print(\"Min 7bft: \" + str(bft7DaysInMonth))"
   ]
  },
  {
   "cell_type": "code",
   "execution_count": 8,
   "metadata": {},
   "outputs": [
    {
     "name": "stdout",
     "output_type": "stream",
     "text": [
      "[21, 19, 17, 16, 15, 15, 16, 16, 17, 20, 20, 23]\n"
     ]
    }
   ],
   "source": [
    "wind10YearsMonthAverage = [0.0] * 12\n",
    "for month in range(12):\n",
    "    monthsum = 0.0\n",
    "    for year in range(9):\n",
    "        monthsum += windMonthAverage[year][month]\n",
    "    wind10YearsMonthAverage[month] = round(monthsum/10)\n",
    "print(wind10YearsMonthAverage)"
   ]
  },
  {
   "cell_type": "code",
   "execution_count": 9,
   "metadata": {},
   "outputs": [
    {
     "name": "stdout",
     "output_type": "stream",
     "text": [
      "[0, 1, 3, 7, 11, 15, 18, 18, 15, 10, 6, 3]\n"
     ]
    }
   ],
   "source": [
    "temp10YearsMonthAverage = [0.0] * 12\n",
    "for month in range(12):\n",
    "    monthsum = 0.0\n",
    "    for year in range(9):\n",
    "        monthsum += tempMonthAverage[year][month]\n",
    "    temp10YearsMonthAverage[month] = round(monthsum/10)\n",
    "print(temp10YearsMonthAverage)"
   ]
  },
  {
   "cell_type": "code",
   "execution_count": 10,
   "metadata": {},
   "outputs": [
    {
     "name": "stdout",
     "output_type": "stream",
     "text": [
      "[20, 16, 15, 14, 12, 11, 13, 12, 14, 17, 17, 20]\n"
     ]
    }
   ],
   "source": [
    "bft4_10YearsMonthAverage = [0.0] * 12\n",
    "for month in range(12):\n",
    "    monthsum = 0.0\n",
    "    for year in range(9):\n",
    "        monthsum += bft4DaysInMonth[year][month]\n",
    "    bft4_10YearsMonthAverage[month] = round(monthsum/10)\n",
    "print(bft4_10YearsMonthAverage)"
   ]
  },
  {
   "cell_type": "code",
   "execution_count": 11,
   "metadata": {},
   "outputs": [
    {
     "name": "stdout",
     "output_type": "stream",
     "text": [
      "[9, 7, 5, 4, 2, 2, 4, 3, 6, 9, 8, 14]\n"
     ]
    }
   ],
   "source": [
    "bft5_10YearsMonthAverage = [0.0] * 12\n",
    "for month in range(12):\n",
    "    monthsum = 0.0\n",
    "    for year in range(9):\n",
    "        monthsum += bft5DaysInMonth[year][month]\n",
    "    bft5_10YearsMonthAverage[month] = round(monthsum/10)\n",
    "print(bft5_10YearsMonthAverage)"
   ]
  },
  {
   "cell_type": "code",
   "execution_count": 12,
   "metadata": {},
   "outputs": [
    {
     "name": "stdout",
     "output_type": "stream",
     "text": [
      "[3, 2, 1, 1, 0, 0, 0, 1, 1, 3, 2, 4]\n"
     ]
    }
   ],
   "source": [
    "bft6_10YearsMonthAverage = [0.0] * 12\n",
    "for month in range(12):\n",
    "    monthsum = 0.0\n",
    "    for year in range(9):\n",
    "        monthsum += bft6DaysInMonth[year][month]\n",
    "    bft6_10YearsMonthAverage[month] = round(monthsum/10)\n",
    "print(bft6_10YearsMonthAverage)"
   ]
  },
  {
   "cell_type": "code",
   "execution_count": 13,
   "metadata": {},
   "outputs": [
    {
     "name": "stdout",
     "output_type": "stream",
     "text": [
      "[1, 0, 0, 0, 0, 0, 0, 0, 0, 1, 0, 0]\n"
     ]
    }
   ],
   "source": [
    "bft7_10YearsMonthAverage = [0.0] * 12\n",
    "for month in range(12):\n",
    "    monthsum = 0.0\n",
    "    for year in range(9):\n",
    "        monthsum += bft7DaysInMonth[year][month]\n",
    "    bft7_10YearsMonthAverage[month] = round(monthsum/10)\n",
    "print(bft7_10YearsMonthAverage)"
   ]
  },
  {
   "cell_type": "code",
   "execution_count": 14,
   "metadata": {},
   "outputs": [],
   "source": [
    "file = open(SPOT_NAME + \".txt\", \"w\") \n",
    "file.write('<WIND_AVERAGE>' + ' = ' + str(wind10YearsMonthAverage) +'\\n') \n",
    "file.write('<TEMP_AVERAGE>' + ' = ' + str(temp10YearsMonthAverage) +'\\n') \n",
    "file.write('<DAYS_4BFT>' + ' = ' + str(bft4_10YearsMonthAverage) +'\\n') \n",
    "file.write('<DAYS_5BFT>' + ' = ' + str(bft5_10YearsMonthAverage) +'\\n') \n",
    "file.write('<DAYS_6BFT>' + ' = ' + str(bft6_10YearsMonthAverage) +'\\n') \n",
    "file.write('<DAYS_7BFT>' + ' = ' + str(bft7_10YearsMonthAverage) +'\\n') \n",
    "file.close() "
   ]
  },
  {
   "cell_type": "code",
   "execution_count": 17,
   "metadata": {},
   "outputs": [],
   "source": [
    "def implicit():\n",
    "    from google.cloud import storage\n",
    "\n",
    "    # If you don't specify credentials when constructing the client, the\n",
    "    # client library will look for credentials in the environment.\n",
    "    storage_client = storage.Client()\n",
    "\n",
    "    # Make an authenticated API request\n",
    "    buckets = list(storage_client.list_buckets())\n",
    "    print(buckets)"
   ]
  },
  {
   "cell_type": "code",
   "execution_count": 19,
   "metadata": {},
   "outputs": [
    {
     "ename": "DefaultCredentialsError",
     "evalue": "Could not automatically determine credentials. Please set GOOGLE_APPLICATION_CREDENTIALS or explicitly create credentials and re-run the application. For more information, please see https://cloud.google.com/docs/authentication/getting-started",
     "output_type": "error",
     "traceback": [
      "\u001b[1;31m---------------------------------------------------------------------------\u001b[0m",
      "\u001b[1;31mDefaultCredentialsError\u001b[0m                   Traceback (most recent call last)",
      "\u001b[1;32m<ipython-input-19-02319574b30a>\u001b[0m in \u001b[0;36m<module>\u001b[1;34m\u001b[0m\n\u001b[0;32m      5\u001b[0m \u001b[0mPROJECT_ID\u001b[0m \u001b[1;33m=\u001b[0m \u001b[1;34m'586042170144:android:1dbc7120143b2b4a235545'\u001b[0m\u001b[1;33m\u001b[0m\u001b[1;33m\u001b[0m\u001b[0m\n\u001b[0;32m      6\u001b[0m \u001b[1;33m\u001b[0m\u001b[0m\n\u001b[1;32m----> 7\u001b[1;33m \u001b[0mdb\u001b[0m \u001b[1;33m=\u001b[0m \u001b[0mfirestore\u001b[0m\u001b[1;33m.\u001b[0m\u001b[0mclient\u001b[0m\u001b[1;33m(\u001b[0m\u001b[1;33m)\u001b[0m\u001b[1;33m\u001b[0m\u001b[1;33m\u001b[0m\u001b[0m\n\u001b[0m\u001b[0;32m      8\u001b[0m \u001b[0musers_ref\u001b[0m \u001b[1;33m=\u001b[0m \u001b[0mdb\u001b[0m\u001b[1;33m.\u001b[0m\u001b[0mcollection\u001b[0m\u001b[1;33m(\u001b[0m\u001b[1;34mu'users'\u001b[0m\u001b[1;33m)\u001b[0m\u001b[1;33m\u001b[0m\u001b[1;33m\u001b[0m\u001b[0m\n\u001b[0;32m      9\u001b[0m \u001b[0mdocs\u001b[0m \u001b[1;33m=\u001b[0m \u001b[0musers_ref\u001b[0m\u001b[1;33m.\u001b[0m\u001b[0mstream\u001b[0m\u001b[1;33m(\u001b[0m\u001b[1;33m)\u001b[0m\u001b[1;33m\u001b[0m\u001b[1;33m\u001b[0m\u001b[0m\n",
      "\u001b[1;32mC:\\ProgramData\\Anaconda3\\lib\\site-packages\\firebase_admin\\firestore.py\u001b[0m in \u001b[0;36mclient\u001b[1;34m(app)\u001b[0m\n\u001b[0;32m     51\u001b[0m           \u001b[1;33m/\u001b[0m\u001b[0mfirestore\u001b[0m\u001b[1;33m/\u001b[0m\u001b[0mclient\u001b[0m\u001b[1;33m.\u001b[0m\u001b[0mhtml\u001b[0m\u001b[1;33m\u001b[0m\u001b[1;33m\u001b[0m\u001b[0m\n\u001b[0;32m     52\u001b[0m     \"\"\"\n\u001b[1;32m---> 53\u001b[1;33m     \u001b[0mfs_client\u001b[0m \u001b[1;33m=\u001b[0m \u001b[0m_utils\u001b[0m\u001b[1;33m.\u001b[0m\u001b[0mget_app_service\u001b[0m\u001b[1;33m(\u001b[0m\u001b[0mapp\u001b[0m\u001b[1;33m,\u001b[0m \u001b[0m_FIRESTORE_ATTRIBUTE\u001b[0m\u001b[1;33m,\u001b[0m \u001b[0m_FirestoreClient\u001b[0m\u001b[1;33m.\u001b[0m\u001b[0mfrom_app\u001b[0m\u001b[1;33m)\u001b[0m\u001b[1;33m\u001b[0m\u001b[1;33m\u001b[0m\u001b[0m\n\u001b[0m\u001b[0;32m     54\u001b[0m     \u001b[1;32mreturn\u001b[0m \u001b[0mfs_client\u001b[0m\u001b[1;33m.\u001b[0m\u001b[0mget\u001b[0m\u001b[1;33m(\u001b[0m\u001b[1;33m)\u001b[0m\u001b[1;33m\u001b[0m\u001b[1;33m\u001b[0m\u001b[0m\n\u001b[0;32m     55\u001b[0m \u001b[1;33m\u001b[0m\u001b[0m\n",
      "\u001b[1;32mC:\\ProgramData\\Anaconda3\\lib\\site-packages\\firebase_admin\\_utils.py\u001b[0m in \u001b[0;36mget_app_service\u001b[1;34m(app, name, initializer)\u001b[0m\n\u001b[0;32m     76\u001b[0m \u001b[1;32mdef\u001b[0m \u001b[0mget_app_service\u001b[0m\u001b[1;33m(\u001b[0m\u001b[0mapp\u001b[0m\u001b[1;33m,\u001b[0m \u001b[0mname\u001b[0m\u001b[1;33m,\u001b[0m \u001b[0minitializer\u001b[0m\u001b[1;33m)\u001b[0m\u001b[1;33m:\u001b[0m\u001b[1;33m\u001b[0m\u001b[1;33m\u001b[0m\u001b[0m\n\u001b[0;32m     77\u001b[0m     \u001b[0mapp\u001b[0m \u001b[1;33m=\u001b[0m \u001b[0m_get_initialized_app\u001b[0m\u001b[1;33m(\u001b[0m\u001b[0mapp\u001b[0m\u001b[1;33m)\u001b[0m\u001b[1;33m\u001b[0m\u001b[1;33m\u001b[0m\u001b[0m\n\u001b[1;32m---> 78\u001b[1;33m     \u001b[1;32mreturn\u001b[0m \u001b[0mapp\u001b[0m\u001b[1;33m.\u001b[0m\u001b[0m_get_service\u001b[0m\u001b[1;33m(\u001b[0m\u001b[0mname\u001b[0m\u001b[1;33m,\u001b[0m \u001b[0minitializer\u001b[0m\u001b[1;33m)\u001b[0m \u001b[1;31m# pylint: disable=protected-access\u001b[0m\u001b[1;33m\u001b[0m\u001b[1;33m\u001b[0m\u001b[0m\n\u001b[0m\u001b[0;32m     79\u001b[0m \u001b[1;33m\u001b[0m\u001b[0m\n\u001b[0;32m     80\u001b[0m \u001b[1;33m\u001b[0m\u001b[0m\n",
      "\u001b[1;32mC:\\ProgramData\\Anaconda3\\lib\\site-packages\\firebase_admin\\__init__.py\u001b[0m in \u001b[0;36m_get_service\u001b[1;34m(self, name, initializer)\u001b[0m\n\u001b[0;32m    295\u001b[0m                     'Service requested from deleted Firebase App: \"{0}\".'.format(self._name))\n\u001b[0;32m    296\u001b[0m             \u001b[1;32mif\u001b[0m \u001b[0mname\u001b[0m \u001b[1;32mnot\u001b[0m \u001b[1;32min\u001b[0m \u001b[0mself\u001b[0m\u001b[1;33m.\u001b[0m\u001b[0m_services\u001b[0m\u001b[1;33m:\u001b[0m\u001b[1;33m\u001b[0m\u001b[1;33m\u001b[0m\u001b[0m\n\u001b[1;32m--> 297\u001b[1;33m                 \u001b[0mself\u001b[0m\u001b[1;33m.\u001b[0m\u001b[0m_services\u001b[0m\u001b[1;33m[\u001b[0m\u001b[0mname\u001b[0m\u001b[1;33m]\u001b[0m \u001b[1;33m=\u001b[0m \u001b[0minitializer\u001b[0m\u001b[1;33m(\u001b[0m\u001b[0mself\u001b[0m\u001b[1;33m)\u001b[0m\u001b[1;33m\u001b[0m\u001b[1;33m\u001b[0m\u001b[0m\n\u001b[0m\u001b[0;32m    298\u001b[0m             \u001b[1;32mreturn\u001b[0m \u001b[0mself\u001b[0m\u001b[1;33m.\u001b[0m\u001b[0m_services\u001b[0m\u001b[1;33m[\u001b[0m\u001b[0mname\u001b[0m\u001b[1;33m]\u001b[0m\u001b[1;33m\u001b[0m\u001b[1;33m\u001b[0m\u001b[0m\n\u001b[0;32m    299\u001b[0m \u001b[1;33m\u001b[0m\u001b[0m\n",
      "\u001b[1;32mC:\\ProgramData\\Anaconda3\\lib\\site-packages\\firebase_admin\\firestore.py\u001b[0m in \u001b[0;36mfrom_app\u001b[1;34m(cls, app)\u001b[0m\n\u001b[0;32m     67\u001b[0m     \u001b[1;32mdef\u001b[0m \u001b[0mfrom_app\u001b[0m\u001b[1;33m(\u001b[0m\u001b[0mcls\u001b[0m\u001b[1;33m,\u001b[0m \u001b[0mapp\u001b[0m\u001b[1;33m)\u001b[0m\u001b[1;33m:\u001b[0m\u001b[1;33m\u001b[0m\u001b[1;33m\u001b[0m\u001b[0m\n\u001b[0;32m     68\u001b[0m         \u001b[1;34m\"\"\"Creates a new _FirestoreClient for the specified app.\"\"\"\u001b[0m\u001b[1;33m\u001b[0m\u001b[1;33m\u001b[0m\u001b[0m\n\u001b[1;32m---> 69\u001b[1;33m         \u001b[0mcredentials\u001b[0m \u001b[1;33m=\u001b[0m \u001b[0mapp\u001b[0m\u001b[1;33m.\u001b[0m\u001b[0mcredential\u001b[0m\u001b[1;33m.\u001b[0m\u001b[0mget_credential\u001b[0m\u001b[1;33m(\u001b[0m\u001b[1;33m)\u001b[0m\u001b[1;33m\u001b[0m\u001b[1;33m\u001b[0m\u001b[0m\n\u001b[0m\u001b[0;32m     70\u001b[0m         \u001b[0mproject\u001b[0m \u001b[1;33m=\u001b[0m \u001b[0mapp\u001b[0m\u001b[1;33m.\u001b[0m\u001b[0mproject_id\u001b[0m\u001b[1;33m\u001b[0m\u001b[1;33m\u001b[0m\u001b[0m\n\u001b[0;32m     71\u001b[0m         \u001b[1;32mif\u001b[0m \u001b[1;32mnot\u001b[0m \u001b[0mproject\u001b[0m\u001b[1;33m:\u001b[0m\u001b[1;33m\u001b[0m\u001b[1;33m\u001b[0m\u001b[0m\n",
      "\u001b[1;32mC:\\ProgramData\\Anaconda3\\lib\\site-packages\\firebase_admin\\credentials.py\u001b[0m in \u001b[0;36mget_credential\u001b[1;34m(self)\u001b[0m\n\u001b[0;32m    140\u001b[0m         \u001b[0mReturns\u001b[0m\u001b[1;33m:\u001b[0m\u001b[1;33m\u001b[0m\u001b[1;33m\u001b[0m\u001b[0m\n\u001b[0;32m    141\u001b[0m           google.auth.credentials.Credentials: A Google Auth credential instance.\"\"\"\n\u001b[1;32m--> 142\u001b[1;33m         \u001b[0mself\u001b[0m\u001b[1;33m.\u001b[0m\u001b[0m_load_credential\u001b[0m\u001b[1;33m(\u001b[0m\u001b[1;33m)\u001b[0m\u001b[1;33m\u001b[0m\u001b[1;33m\u001b[0m\u001b[0m\n\u001b[0m\u001b[0;32m    143\u001b[0m         \u001b[1;32mreturn\u001b[0m \u001b[0mself\u001b[0m\u001b[1;33m.\u001b[0m\u001b[0m_g_credential\u001b[0m\u001b[1;33m\u001b[0m\u001b[1;33m\u001b[0m\u001b[0m\n\u001b[0;32m    144\u001b[0m \u001b[1;33m\u001b[0m\u001b[0m\n",
      "\u001b[1;32mC:\\ProgramData\\Anaconda3\\lib\\site-packages\\firebase_admin\\credentials.py\u001b[0m in \u001b[0;36m_load_credential\u001b[1;34m(self)\u001b[0m\n\u001b[0;32m    157\u001b[0m     \u001b[1;32mdef\u001b[0m \u001b[0m_load_credential\u001b[0m\u001b[1;33m(\u001b[0m\u001b[0mself\u001b[0m\u001b[1;33m)\u001b[0m\u001b[1;33m:\u001b[0m\u001b[1;33m\u001b[0m\u001b[1;33m\u001b[0m\u001b[0m\n\u001b[0;32m    158\u001b[0m         \u001b[1;32mif\u001b[0m \u001b[1;32mnot\u001b[0m \u001b[0mself\u001b[0m\u001b[1;33m.\u001b[0m\u001b[0m_g_credential\u001b[0m\u001b[1;33m:\u001b[0m\u001b[1;33m\u001b[0m\u001b[1;33m\u001b[0m\u001b[0m\n\u001b[1;32m--> 159\u001b[1;33m             \u001b[0mself\u001b[0m\u001b[1;33m.\u001b[0m\u001b[0m_g_credential\u001b[0m\u001b[1;33m,\u001b[0m \u001b[0mself\u001b[0m\u001b[1;33m.\u001b[0m\u001b[0m_project_id\u001b[0m \u001b[1;33m=\u001b[0m \u001b[0mgoogle\u001b[0m\u001b[1;33m.\u001b[0m\u001b[0mauth\u001b[0m\u001b[1;33m.\u001b[0m\u001b[0mdefault\u001b[0m\u001b[1;33m(\u001b[0m\u001b[0mscopes\u001b[0m\u001b[1;33m=\u001b[0m\u001b[0m_scopes\u001b[0m\u001b[1;33m)\u001b[0m\u001b[1;33m\u001b[0m\u001b[1;33m\u001b[0m\u001b[0m\n\u001b[0m\u001b[0;32m    160\u001b[0m \u001b[1;33m\u001b[0m\u001b[0m\n\u001b[0;32m    161\u001b[0m \u001b[1;32mclass\u001b[0m \u001b[0mRefreshToken\u001b[0m\u001b[1;33m(\u001b[0m\u001b[0mBase\u001b[0m\u001b[1;33m)\u001b[0m\u001b[1;33m:\u001b[0m\u001b[1;33m\u001b[0m\u001b[1;33m\u001b[0m\u001b[0m\n",
      "\u001b[1;32mC:\\ProgramData\\Anaconda3\\lib\\site-packages\\google\\auth\\_default.py\u001b[0m in \u001b[0;36mdefault\u001b[1;34m(scopes, request)\u001b[0m\n\u001b[0;32m    319\u001b[0m             \u001b[1;32mreturn\u001b[0m \u001b[0mcredentials\u001b[0m\u001b[1;33m,\u001b[0m \u001b[0meffective_project_id\u001b[0m\u001b[1;33m\u001b[0m\u001b[1;33m\u001b[0m\u001b[0m\n\u001b[0;32m    320\u001b[0m \u001b[1;33m\u001b[0m\u001b[0m\n\u001b[1;32m--> 321\u001b[1;33m     \u001b[1;32mraise\u001b[0m \u001b[0mexceptions\u001b[0m\u001b[1;33m.\u001b[0m\u001b[0mDefaultCredentialsError\u001b[0m\u001b[1;33m(\u001b[0m\u001b[0m_HELP_MESSAGE\u001b[0m\u001b[1;33m)\u001b[0m\u001b[1;33m\u001b[0m\u001b[1;33m\u001b[0m\u001b[0m\n\u001b[0m",
      "\u001b[1;31mDefaultCredentialsError\u001b[0m: Could not automatically determine credentials. Please set GOOGLE_APPLICATION_CREDENTIALS or explicitly create credentials and re-run the application. For more information, please see https://cloud.google.com/docs/authentication/getting-started"
     ]
    }
   ],
   "source": [
    "import firebase_admin\n",
    "from firebase_admin import credentials\n",
    "from firebase_admin import firestore\n",
    "\n",
    "PROJECT_ID = '586042170144:android:1dbc7120143b2b4a235545'\n",
    "\n",
    "db = firestore.client()\n",
    "users_ref = db.collection(u'users')\n",
    "docs = users_ref.stream()\n",
    "\n",
    "for doc in docs:\n",
    "    print(u'{} => {}'.format(doc.id, doc.to_dict()))"
   ]
  },
  {
   "cell_type": "code",
   "execution_count": null,
   "metadata": {},
   "outputs": [],
   "source": []
  }
 ],
 "metadata": {
  "kernelspec": {
   "display_name": "Python 3",
   "language": "python",
   "name": "python3"
  },
  "language_info": {
   "codemirror_mode": {
    "name": "ipython",
    "version": 3
   },
   "file_extension": ".py",
   "mimetype": "text/x-python",
   "name": "python",
   "nbconvert_exporter": "python",
   "pygments_lexer": "ipython3",
   "version": "3.7.4"
  }
 },
 "nbformat": 4,
 "nbformat_minor": 2
}
